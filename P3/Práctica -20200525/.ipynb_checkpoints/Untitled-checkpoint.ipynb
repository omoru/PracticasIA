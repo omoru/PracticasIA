{
 "cells": [
  {
   "cell_type": "markdown",
   "metadata": {},
   "source": [
    "### G08:  Óscar Morujo Fernández, Gorka Silva Ramón."
   ]
  },
  {
   "cell_type": "markdown",
   "metadata": {},
   "source": [
    "## PRÁCTICA 3: Consultas SPARQL sobre Wikidata"
   ]
  },
  {
   "cell_type": "code",
   "execution_count": 1,
   "metadata": {},
   "outputs": [],
   "source": [
    "#%pip install qwikidata"
   ]
  },
  {
   "cell_type": "code",
   "execution_count": 2,
   "metadata": {},
   "outputs": [],
   "source": [
    "from qwikidata.sparql import return_sparql_query_results"
   ]
  },
  {
   "cell_type": "markdown",
   "metadata": {},
   "source": [
    "**1- Hans  Zimmer  (Q76364) es  un  famoso  compositor  de  muchas  bandas  sonoras  de películas. Vamos a comenzar por averiguar su fecha y lugar de nacimiento**"
   ]
  },
  {
   "cell_type": "code",
   "execution_count": 3,
   "metadata": {},
   "outputs": [],
   "source": [
    "\n",
    "sparql_query = \"\"\"\n",
    "SELECT ?birth_date ?place_birth ?place_birthLabel\n",
    "WHERE\n",
    "{\n",
    "  wd:Q76364 wdt:P569 ?birth_date. #fecha nacimiento Hans Zimmer\n",
    "  wd:Q76364 wdt:P19 ?place_birth. #lugar de nacimiento\n",
    "  SERVICE wikibase:label { bd:serviceParam wikibase:language \"[AUTO_LANGUAGE],en\". }\n",
    "}\n",
    "\"\"\"\n",
    "res = return_sparql_query_results(sparql_query)\n"
   ]
  },
  {
   "cell_type": "markdown",
   "metadata": {},
   "source": [
    "<html><head><meta charset=\"utf-8\"></head><body><table><thead><tr><th>birth_date</th><th>place_birth</th><th>place_birthLabel</th></tr></thead><tbody><tr><td>1957-09-12T00:00:00Z</td><td>http://www.wikidata.org/entity/Q1794</td><td>Fráncfort del Meno</td></tr></tbody></table></body></html>"
   ]
  },
  {
   "cell_type": "markdown",
   "metadata": {},
   "source": [
    "**2- A continuación,vamos  a  averiguar  los  instrumentos  que  toca.  Queremos  obtener  los resultados ordenados alfabéticamente por el nombre del instrumento.**"
   ]
  },
  {
   "cell_type": "code",
   "execution_count": 4,
   "metadata": {},
   "outputs": [],
   "source": [
    "sparql_query = \"\"\"\n",
    "SELECT ?instrument ?instrumentLabel \n",
    "WHERE\n",
    "{\n",
    "  wd:Q76364 wdt:P1303 ?instrument\n",
    "  SERVICE wikibase:label { bd:serviceParam wikibase:language \"[AUTO_LANGUAGE],en\". }\n",
    "}\n",
    "ORDER BY ASC(?instrumentLabel)\n",
    "\"\"\"\n",
    "res = return_sparql_query_results(sparql_query)\n"
   ]
  },
  {
   "cell_type": "markdown",
   "metadata": {},
   "source": [
    "<html><head><meta charset=\"utf-8\"></head><body><table><thead><tr><th>instrument</th><th>instrumentLabel</th></tr></thead><tbody><tr><td>http://www.wikidata.org/entity/Q258896</td><td>banjo</td></tr><tr><td>http://www.wikidata.org/entity/Q6607</td><td>guitarra</td></tr><tr><td>http://www.wikidata.org/entity/Q46185</td><td>guitarra bajo</td></tr><tr><td>http://www.wikidata.org/entity/Q5994</td><td>piano</td></tr><tr><td>http://www.wikidata.org/entity/Q163829</td><td>sintetizador</td></tr><tr><td>http://www.wikidata.org/entity/Q52954</td><td>teclado</td></tr></tbody></table></body></html>"
   ]
  },
  {
   "cell_type": "markdown",
   "metadata": {},
   "source": [
    "**3- ¿Cuales de los instrumentos que toca son instrumentos de cuerda? Ten en cuenta que los  instrumentos  pueden  ser  indirectamente  de  cuerda  a  través  de  varias  relaciones subclase.**"
   ]
  },
  {
   "cell_type": "code",
   "execution_count": 5,
   "metadata": {},
   "outputs": [],
   "source": [
    "sparql_query = \"\"\"\n",
    "\n",
    "SELECT ?instrument ?instrumentLabel \n",
    "WHERE\n",
    "{\n",
    "  wd:Q76364 wdt:P1303 ?instrument.\n",
    "  ?instrument wdt:P279* wd:Q1798603.\n",
    "  SERVICE wikibase:label { bd:serviceParam wikibase:language \"[AUTO_LANGUAGE],en\". }\n",
    "}\n",
    "ORDER BY ASC(?instrumentLabel)\n",
    "\n",
    "\"\"\"\n",
    "res = return_sparql_query_results(sparql_query)\n"
   ]
  },
  {
   "cell_type": "markdown",
   "metadata": {},
   "source": [
    "<html><head><meta charset=\"utf-8\"></head><body><table><thead><tr><th>instrument</th><th>instrumentLabel</th></tr></thead><tbody><tr><td>http://www.wikidata.org/entity/Q258896</td><td>banjo</td></tr><tr><td>http://www.wikidata.org/entity/Q6607</td><td>guitarra</td></tr><tr><td>http://www.wikidata.org/entity/Q46185</td><td>guitarra bajo</td></tr><tr><td>http://www.wikidata.org/entity/Q5994</td><td>piano</td></tr></tbody></table></body></html>"
   ]
  },
  {
   "cell_type": "markdown",
   "metadata": {},
   "source": [
    "**4- Zimmer   ha   recibido   muchas nominaciones   y   premios   a   lo   largo   de   su   carrera. Queremos obtener una lista de nominaciones y para cada una de ellas el trabajo por el cual fue nominado. Para resolver esta consulta necesitarás acceder a los cualificadores de nodos sentencia y necesitarásentender los prefijos que usa Wikidata.**"
   ]
  },
  {
   "cell_type": "code",
   "execution_count": 6,
   "metadata": {},
   "outputs": [],
   "source": [
    "sparql_query = \"\"\"\n",
    "SELECT ?nominaciones ?nominacionesLabel  ?obra ?obraLabel\n",
    "WHERE\n",
    "{\n",
    "  wd:Q76364 p:P1411 [ ps:P1411 ?nominaciones;\n",
    "                               pq:P1686 ?obra ].\n",
    "  \n",
    " SERVICE wikibase:label { bd:serviceParam wikibase:language \"[AUTO_LANGUAGE],en\". }}\n",
    "\"\"\"\n",
    "res = return_sparql_query_results(sparql_query)\n"
   ]
  },
  {
   "cell_type": "markdown",
   "metadata": {},
   "source": [
    "<html><head><meta charset=\"utf-8\"></head><body><table><thead><tr><th>nominaciones</th><th>nominacionesLabel</th><th>obra</th><th>obraLabel</th></tr></thead><tbody><tr><td>http://www.wikidata.org/entity/Q22235305</td><td>Academy Award for Best Original Musical or Comedy Score</td><td>http://www.wikidata.org/entity/Q221594</td><td>Mejor... imposible</td></tr><tr><td>http://www.wikidata.org/entity/Q22235305</td><td>Academy Award for Best Original Musical or Comedy Score</td><td>http://www.wikidata.org/entity/Q1475674</td><td>The Preacher's Wife</td></tr><tr><td>http://www.wikidata.org/entity/Q488651</td><td>Óscar a la mejor banda sonora</td><td>http://www.wikidata.org/entity/Q36479</td><td>El rey león</td></tr><tr><td>http://www.wikidata.org/entity/Q22235329</td><td>Óscar a la mejor partitura dramática original</td><td>http://www.wikidata.org/entity/Q221491</td><td>La delgada línea roja</td></tr><tr><td>http://www.wikidata.org/entity/Q488651</td><td>Óscar a la mejor banda sonora</td><td>http://www.wikidata.org/entity/Q200396</td><td>Sherlock Holmes</td></tr><tr><td>http://www.wikidata.org/entity/Q22235305</td><td>Academy Award for Best Original Musical or Comedy Score</td><td>http://www.wikidata.org/entity/Q245227</td><td>El príncipe de Egipto</td></tr><tr><td>http://www.wikidata.org/entity/Q488651</td><td>Óscar a la mejor banda sonora</td><td>http://www.wikidata.org/entity/Q25188</td><td>Inception</td></tr><tr><td>http://www.wikidata.org/entity/Q488651</td><td>Óscar a la mejor banda sonora</td><td>http://www.wikidata.org/entity/Q128518</td><td>Gladiator</td></tr><tr><td>http://www.wikidata.org/entity/Q488651</td><td>Óscar a la mejor banda sonora</td><td>http://www.wikidata.org/entity/Q188845</td><td>Rain Man</td></tr><tr><td>http://www.wikidata.org/entity/Q488651</td><td>Óscar a la mejor banda sonora</td><td>http://www.wikidata.org/entity/Q13417189</td><td>Interstellar</td></tr></tbody></table></body></html>"
   ]
  },
  {
   "cell_type": "markdown",
   "metadata": {},
   "source": [
    "**5- Ahora  queremos  conocer  el  título  de  todas  las  películas  en  las  que  Zimmer  ha colaborado  como  compositor.  Se  mostrarán ordenadas  alfabéticamente  y  debes  tener cuidado de no mostrar resultados repetidos.** "
   ]
  },
  {
   "cell_type": "markdown",
   "metadata": {},
   "source": [
    "Si distinguieramos por título en vez de por item película, no conseguiriamos 2 resultados que si deberíamos de conseguir , ya que ha participado como compositor en dos películas diferentes que se llaman igual(diferentes versiones en diferentes años), las cuales son The Lion King y Freeheld."
   ]
  },
  {
   "cell_type": "code",
   "execution_count": 7,
   "metadata": {},
   "outputs": [],
   "source": [
    "sparql_query = \"\"\"\n",
    "\n",
    "SELECT DISTINCT ?pelicula ?label\n",
    "WHERE\n",
    "{\n",
    "  BIND(wd:Q76364 AS ?HANS).\n",
    "  ?pelicula wdt:P31/wdt:P279* wd:Q11424;\n",
    "             wdt:P86 ?HANS.\n",
    "  \n",
    "  #seleccionamos los titulos en ingles para que no nos lo devuelva en diferentes idiomas\n",
    "  ?pelicula rdfs:label ?peliculaLabel.\n",
    "  FILTER(LANG(?peliculaLabel) = \"en\").\n",
    "  OPTIONAL { ?peliculaLabel  wdt:P1476 ?title.}\n",
    "  # bind the title, or if it doesn’t exist the English label, as ?label\n",
    "  BIND(IF(BOUND(?title),?title,?peliculaLabel) AS ?label).\n",
    "}\n",
    " ORDER BY ASC(?label)\n",
    "\n",
    "\"\"\"\n",
    "res = return_sparql_query_results(sparql_query)\n"
   ]
  },
  {
   "cell_type": "markdown",
   "metadata": {},
   "source": [
    "<html><head><meta charset=\"utf-8\"></head><body><table><thead><tr><th>pelicula</th><th>label</th></tr></thead><tbody><tr><td>http://www.wikidata.org/entity/Q3023357</td><td>12 Years a Slave</td></tr><tr><td>http://www.wikidata.org/entity/Q1306472</td><td>A League of Their Own</td></tr><tr><td>http://www.wikidata.org/entity/Q232130</td><td>A World Apart</td></tr><tr><td>http://www.wikidata.org/entity/Q85536881</td><td>Ability</td></tr><tr><td>http://www.wikidata.org/entity/Q4689527</td><td>Africa: The Serengeti</td></tr><tr><td>http://www.wikidata.org/entity/Q4749984</td><td>An Everlasting Piece</td></tr><tr><td>http://www.wikidata.org/entity/Q192934</td><td>Angels &amp; Demons</td></tr><tr><td>http://www.wikidata.org/entity/Q221594</td><td>As Good as It Gets</td></tr><tr><td>http://www.wikidata.org/entity/Q499371</td><td>Backdraft</td></tr><tr><td>http://www.wikidata.org/entity/Q16155083</td><td>Batkid</td></tr><tr><td>http://www.wikidata.org/entity/Q166262</td><td>Batman Begins</td></tr><tr><td>http://www.wikidata.org/entity/Q14772351</td><td>Batman v Superman: Dawn of Justice</td></tr><tr><td>http://www.wikidata.org/entity/Q47069744</td><td>Believer</td></tr><tr><td>http://www.wikidata.org/entity/Q1753610</td><td>Beyond Rangoon</td></tr><tr><td>http://www.wikidata.org/entity/Q135347</td><td>Bird on a Wire</td></tr><tr><td>http://www.wikidata.org/entity/Q221384</td><td>Black Hawk Down</td></tr><tr><td>http://www.wikidata.org/entity/Q1048085</td><td>Black Rain</td></tr><tr><td>http://www.wikidata.org/entity/Q21500755</td><td>Blade Runner 2049</td></tr><tr><td>http://www.wikidata.org/entity/Q392915</td><td>Broken Arrow</td></tr><tr><td>http://www.wikidata.org/entity/Q583623</td><td>Burning Secret</td></tr><tr><td>http://www.wikidata.org/entity/Q3402011</td><td>Calendar Girl</td></tr><tr><td>http://www.wikidata.org/entity/Q15209986</td><td>Chappie</td></tr><tr><td>http://www.wikidata.org/entity/Q2963312</td><td>Chicago Joe and the Showgirl</td></tr><tr><td>http://www.wikidata.org/entity/Q1192764</td><td>Chill Factor</td></tr><tr><td>http://www.wikidata.org/entity/Q282748</td><td>Cool Runnings</td></tr><tr><td>http://www.wikidata.org/entity/Q1140085</td><td>Crimson Tide</td></tr><tr><td>http://www.wikidata.org/entity/Q4096517</td><td>Dark Obsession</td></tr><tr><td>http://www.wikidata.org/entity/Q31188935</td><td>Dark Phoenix</td></tr><tr><td>http://www.wikidata.org/entity/Q603696</td><td>Days of Thunder</td></tr><tr><td>http://www.wikidata.org/entity/Q211373</td><td>Driving Miss Daisy</td></tr><tr><td>http://www.wikidata.org/entity/Q1260289</td><td>Drop Zone</td></tr><tr><td>http://www.wikidata.org/entity/Q60834962</td><td>Dune</td></tr><tr><td>http://www.wikidata.org/entity/Q21935651</td><td>Dunkirk</td></tr><tr><td>http://www.wikidata.org/entity/Q4376535</td><td>Fools of Fortune</td></tr><tr><td>http://www.wikidata.org/entity/Q86458113</td><td>Founders of Isfahan college of Physics</td></tr><tr><td>http://www.wikidata.org/entity/Q18210299</td><td>Freeheld</td></tr><tr><td>http://www.wikidata.org/entity/Q2066933</td><td>Freeheld</td></tr><tr><td>http://www.wikidata.org/entity/Q691672</td><td>Frost/Nixon</td></tr><tr><td>http://www.wikidata.org/entity/Q128518</td><td>Gladiator</td></tr><tr><td>http://www.wikidata.org/entity/Q505135</td><td>Green Card</td></tr><tr><td>http://www.wikidata.org/entity/Q722682</td><td>Hannibal</td></tr><tr><td>http://www.wikidata.org/entity/Q23755544</td><td>Hidden Figures</td></tr><tr><td>http://www.wikidata.org/entity/Q65090738</td><td>Hillbilly Elegy</td></tr><tr><td>http://www.wikidata.org/entity/Q523197</td><td>How Do You Know</td></tr><tr><td>http://www.wikidata.org/entity/Q853425</td><td>I'll Do Anything</td></tr><tr><td>http://www.wikidata.org/entity/Q25188</td><td>Inception</td></tr><tr><td>http://www.wikidata.org/entity/Q85520081</td><td>Inception</td></tr><tr><td>http://www.wikidata.org/entity/Q18192306</td><td>Inferno</td></tr><tr><td>http://www.wikidata.org/entity/Q13417189</td><td>Interstellar</td></tr><tr><td>http://www.wikidata.org/entity/Q640762</td><td>Invincible</td></tr><tr><td>http://www.wikidata.org/entity/Q843950</td><td>It's Complicated</td></tr><tr><td>http://www.wikidata.org/entity/Q337090</td><td>King Arthur</td></tr><tr><td>http://www.wikidata.org/entity/Q129193</td><td>Kung Fu Panda</td></tr><tr><td>http://www.wikidata.org/entity/Q487447</td><td>Kung Fu Panda 2</td></tr><tr><td>http://www.wikidata.org/entity/Q15055043</td><td>Kung Fu Panda 3</td></tr><tr><td>http://www.wikidata.org/entity/Q329603</td><td>Laura's Star</td></tr><tr><td>http://www.wikidata.org/entity/Q174555</td><td>Madagascar</td></tr><tr><td>http://www.wikidata.org/entity/Q244247</td><td>Madagascar 3: Europe's Most Wanted</td></tr><tr><td>http://www.wikidata.org/entity/Q188474</td><td>Madagascar: Escape 2 Africa</td></tr><tr><td>http://www.wikidata.org/entity/Q622769</td><td>Man of Steel</td></tr><tr><td>http://www.wikidata.org/entity/Q4536</td><td>Matchstick Men</td></tr><tr><td>http://www.wikidata.org/entity/Q81205</td><td>Megamind</td></tr><tr><td>http://www.wikidata.org/entity/Q4286601</td><td>Megamind: The Button of Doom</td></tr><tr><td>http://www.wikidata.org/entity/Q505790</td><td>Mission: Impossible II</td></tr><tr><td>http://www.wikidata.org/entity/Q6928990</td><td>Mr. Morgan's Last Love</td></tr><tr><td>http://www.wikidata.org/entity/Q1788520</td><td>Muppet Treasure Island</td></tr><tr><td>http://www.wikidata.org/entity/Q18511204</td><td>Nightmare at Noon</td></tr><tr><td>http://www.wikidata.org/entity/Q955389</td><td>Nine Months</td></tr><tr><td>http://www.wikidata.org/entity/Q21534241</td><td>No Time to Die</td></tr><tr><td>http://www.wikidata.org/entity/Q1148079</td><td>Pacific Heights</td></tr><tr><td>http://www.wikidata.org/entity/Q194413</td><td>Pearl Harbor</td></tr><tr><td>http://www.wikidata.org/entity/Q54274</td><td>Pirates of the Caribbean: At World's End</td></tr><tr><td>http://www.wikidata.org/entity/Q161087</td><td>Pirates of the Caribbean: Dead Man's Chest</td></tr><tr><td>http://www.wikidata.org/entity/Q10350033</td><td>Pirates of the Caribbean: Dead Men Tell No Tales</td></tr><tr><td>http://www.wikidata.org/entity/Q183555</td><td>Pirates of the Caribbean: On Stranger Tides</td></tr><tr><td>http://www.wikidata.org/entity/Q46717</td><td>Pirates of the Caribbean: The Curse of the Black Pearl</td></tr><tr><td>http://www.wikidata.org/entity/Q577469</td><td>Point of No Return</td></tr><tr><td>http://www.wikidata.org/entity/Q12128282</td><td>Radio Flyer</td></tr><tr><td>http://www.wikidata.org/entity/Q188845</td><td>Rain Man</td></tr><tr><td>http://www.wikidata.org/entity/Q275432</td><td>Rango</td></tr><tr><td>http://www.wikidata.org/entity/Q603865</td><td>Regarding Henry</td></tr><tr><td>http://www.wikidata.org/entity/Q129288</td><td>Renaissance Man</td></tr><tr><td>http://www.wikidata.org/entity/Q1313530</td><td>Riding in Cars with Boys</td></tr><tr><td>http://www.wikidata.org/entity/Q3936037</td><td>Rings</td></tr><tr><td>http://www.wikidata.org/entity/Q1768437</td><td>Rush</td></tr><tr><td>http://www.wikidata.org/entity/Q1058489</td><td>Sadako 3D</td></tr><tr><td>http://www.wikidata.org/entity/Q57983078</td><td>Separate Vacations</td></tr><tr><td>http://www.wikidata.org/entity/Q120367</td><td>Shark Tale</td></tr><tr><td>http://www.wikidata.org/entity/Q200396</td><td>Sherlock Holmes</td></tr><tr><td>http://www.wikidata.org/entity/Q243643</td><td>Sherlock Holmes: A Game of Shadows</td></tr><tr><td>http://www.wikidata.org/entity/Q1544085</td><td>Something to Talk About</td></tr><tr><td>http://www.wikidata.org/entity/Q584766</td><td>Something's Gotta Givej</td></tr><tr><td>http://www.wikidata.org/entity/Q15137718</td><td>Son of God</td></tr><tr><td>http://www.wikidata.org/entity/Q3964671</td><td>Son of Morning</td></tr><tr><td>http://www.wikidata.org/entity/Q56850065</td><td>Space Jam: A New Legacy</td></tr><tr><td>http://www.wikidata.org/entity/Q1367647</td><td>Spanglish</td></tr><tr><td>http://www.wikidata.org/entity/Q641315</td><td>Spirit: Stallion of the Cimarron</td></tr><tr><td>http://www.wikidata.org/entity/Q459889</td><td>Tears of the Sun</td></tr><tr><td>http://www.wikidata.org/entity/Q7702661</td><td>Terminal Exposure</td></tr><tr><td>http://www.wikidata.org/entity/Q4254026</td><td>The Amazing Spider-Man 2</td></tr><tr><td>http://www.wikidata.org/entity/Q7717444</td><td>The Bible</td></tr><tr><td>http://www.wikidata.org/entity/Q856805</td><td>The Boat That Rocked</td></tr><tr><td>http://www.wikidata.org/entity/Q18619153</td><td>The Boss Baby</td></tr><tr><td>http://www.wikidata.org/entity/Q160560</td><td>The Da Vinci Code</td></tr><tr><td>http://www.wikidata.org/entity/Q163872</td><td>The Dark Knight</td></tr><tr><td>http://www.wikidata.org/entity/Q189330</td><td>The Dark Knight Rises</td></tr><tr><td>http://www.wikidata.org/entity/Q1210206</td><td>The Dilemma</td></tr><tr><td>http://www.wikidata.org/entity/Q390299</td><td>The Fan</td></tr><tr><td>http://www.wikidata.org/entity/Q7735390</td><td>The Fruit Machine</td></tr><tr><td>http://www.wikidata.org/entity/Q478748</td><td>The Holiday</td></tr><tr><td>http://www.wikidata.org/entity/Q312394</td><td>The House of the Spirits</td></tr><tr><td>http://www.wikidata.org/entity/Q571014</td><td>The Last Days</td></tr><tr><td>http://www.wikidata.org/entity/Q18151554</td><td>The Last Face</td></tr><tr><td>http://www.wikidata.org/entity/Q207130</td><td>The Last Samurai</td></tr><tr><td>http://www.wikidata.org/entity/Q2406188</td><td>The Lightship</td></tr><tr><td>http://www.wikidata.org/entity/Q36479</td><td>The Lion King</td></tr><tr><td>http://www.wikidata.org/entity/Q27044293</td><td>The Lion King</td></tr><tr><td>http://www.wikidata.org/entity/Q191803</td><td>The Lion King II: Simba's Pride</td></tr><tr><td>http://www.wikidata.org/entity/Q16386722</td><td>The Little Prince</td></tr><tr><td>http://www.wikidata.org/entity/Q548919</td><td>The Lone Ranger</td></tr><tr><td>http://www.wikidata.org/entity/Q255309</td><td>The Longest Daycare</td></tr><tr><td>http://www.wikidata.org/entity/Q1141706</td><td>The Peacemaker</td></tr><tr><td>http://www.wikidata.org/entity/Q150949</td><td>The Power of One</td></tr><tr><td>http://www.wikidata.org/entity/Q1475674</td><td>The Preacher's Wife</td></tr><tr><td>http://www.wikidata.org/entity/Q245227</td><td>The Prince of Egypt</td></tr><tr><td>http://www.wikidata.org/entity/Q1354326</td><td>The Punisher: Dirty Laundry</td></tr><tr><td>http://www.wikidata.org/entity/Q212804</td><td>The Ring</td></tr><tr><td>http://www.wikidata.org/entity/Q85530211</td><td>The Road of Love</td></tr><tr><td>http://www.wikidata.org/entity/Q866358</td><td>The Road to El Dorado</td></tr><tr><td>http://www.wikidata.org/entity/Q216720</td><td>The Rock</td></tr><tr><td>http://www.wikidata.org/entity/Q18844656</td><td>The Secret Life of Pets</td></tr><tr><td>http://www.wikidata.org/entity/Q182254</td><td>The Simpsons Movie</td></tr><tr><td>http://www.wikidata.org/entity/Q61450772</td><td>The SpongeBob Movie: Sponge on the Run</td></tr><tr><td>http://www.wikidata.org/entity/Q221491</td><td>The Thin Red Line</td></tr><tr><td>http://www.wikidata.org/entity/Q60296</td><td>The Weather Man</td></tr><tr><td>http://www.wikidata.org/entity/Q27958082</td><td>The Wind</td></tr><tr><td>http://www.wikidata.org/entity/Q17184103</td><td>The Woman in Gold</td></tr><tr><td>http://www.wikidata.org/entity/Q4327979</td><td>The Zero Boys</td></tr><tr><td>http://www.wikidata.org/entity/Q658041</td><td>Thelma &amp; Louise</td></tr><tr><td>http://www.wikidata.org/entity/Q31202708</td><td>Top Gun: Maverick</td></tr><tr><td>http://www.wikidata.org/entity/Q1849238</td><td>Toys</td></tr><tr><td>http://www.wikidata.org/entity/Q1127709</td><td>True Romance</td></tr><tr><td>http://www.wikidata.org/entity/Q4424430</td><td>Twister</td></tr><tr><td>http://www.wikidata.org/entity/Q7858914</td><td>Two Deaths</td></tr><tr><td>http://www.wikidata.org/entity/Q135491</td><td>White Fang</td></tr><tr><td>http://www.wikidata.org/entity/Q29163736</td><td>Widows</td></tr><tr><td>http://www.wikidata.org/entity/Q3569395</td><td>Winter's Tale</td></tr><tr><td>http://www.wikidata.org/entity/Q33408623</td><td>Wonder Woman 1984</td></tr><tr><td>http://www.wikidata.org/entity/Q1472370</td><td>Younger and Younger</td></tr></tbody></table></body></html>"
   ]
  },
  {
   "cell_type": "markdown",
   "metadata": {},
   "source": [
    "**6-Zimmer  es  sin  duda  un  compositor  prolífico.  ¿Exactamente  en  cuentas  películas  ha participado como compositor?**"
   ]
  },
  {
   "cell_type": "code",
   "execution_count": 8,
   "metadata": {},
   "outputs": [],
   "source": [
    "sparql_query = \"\"\"\n",
    "SELECT  (COUNT(DISTINCT ?pelicula) AS ?count) \n",
    "WHERE\n",
    "{\n",
    "  BIND(wd:Q76364 AS ?HANS).\n",
    "  ?pelicula wdt:P31/wdt:P279* wd:Q11424;\n",
    "             wdt:P86 ?HANS.\n",
    "  \n",
    " SERVICE wikibase:label { bd:serviceParam wikibase:language \"[AUTO_LANGUAGE],en\". }}\n",
    " ORDER BY ASC(?peliculaLabel)\n",
    "\"\"\"\n",
    "res = return_sparql_query_results(sparql_query)\n"
   ]
  },
  {
   "cell_type": "markdown",
   "metadata": {},
   "source": [
    "<html><head><meta charset=\"utf-8\"></head><body><table><thead><tr><th>count</th></tr></thead><tbody><tr><td>150</td></tr></tbody></table></body></html>"
   ]
  },
  {
   "cell_type": "markdown",
   "metadata": {},
   "source": [
    " **7 -Es  importante  que  las  películas  tengan  una  duración  adecuada,  ni  muy  cortas  ni demasiado  largas.  De  todas  las  películas  en  las  que  ha  colaborado  Zimmer  como compositor, ¿cuálesduran entre 90 y 120 minutos? Muestra los resultados ordenados alfabéticamente.Para cada película muestra el título y la duración.Algunas  películas  (como Salto  al  peligro)  pueden  tener  varias  duraciones  (supongo que  son  distintas  versiones  de  la  película).  En  este  apartado  no  importa  si  aparecen varias veces en los resultados.**"
   ]
  },
  {
   "cell_type": "markdown",
   "metadata": {},
   "source": [
    "En esta consulta no aparece duplicado ni The Lion King ni Freeheld, ya que  una de las del rey león dura menos de 90 minutos y otra de Freeheld dura también menos de 90 minutos.Las otras dos si entran en el rango de duración descrito.\n",
    "\n",
    "Además, como la película \"El principito\" tiene el titulo en varios idiomas tendremos que seleccionar aquellos títulos que este en inglés( ya que parece que la mayor parte de estos están en inglés."
   ]
  },
  {
   "cell_type": "code",
   "execution_count": 9,
   "metadata": {},
   "outputs": [],
   "source": [
    "sparql_query = \"\"\"\n",
    "SELECT DISTINCT ?pelicula ?label ?duration \n",
    "WHERE\n",
    "{\n",
    "  BIND(wd:Q76364 AS ?HANS).\n",
    "  ?pelicula wdt:P31/wdt:P279* wd:Q11424;\n",
    "             wdt:P86 ?HANS;\n",
    "             wdt:P2047 ?duration.\n",
    "  \n",
    "  FILTER(90 <= ?duration && ?duration <=120).\n",
    "  \n",
    "    #seleccionamos los titulos en ingles para que no nos lo devuelva en diferentes idiomas\n",
    "  ?pelicula rdfs:label ?peliculaLabel.\n",
    "  FILTER(LANG(?peliculaLabel) = \"en\").\n",
    "  OPTIONAL { ?peliculaLabel  wdt:P1476 ?title.}\n",
    "  # bind the title, or if it doesn’t exist the English label, as ?label\n",
    "  BIND(IF(BOUND(?title),?title,?peliculaLabel) AS ?label).\n",
    "}\n",
    " ORDER BY ASC(?label)\n",
    "\n",
    "\"\"\"\n",
    "res = return_sparql_query_results(sparql_query)\n"
   ]
  },
  {
   "cell_type": "markdown",
   "metadata": {},
   "source": [
    "\n",
    "\n",
    "<html><head><meta charset=\"utf-8\"></head><body><table><thead><tr><th>pelicula</th><th>label</th><th>duration</th></tr></thead><tbody><tr><td>http://www.wikidata.org/entity/Q232130</td><td>A World Apart</td><td>112</td></tr><tr><td>http://www.wikidata.org/entity/Q4749984</td><td>An Everlasting Piece</td><td>108</td></tr><tr><td>http://www.wikidata.org/entity/Q1753610</td><td>Beyond Rangoon</td><td>95</td></tr><tr><td>http://www.wikidata.org/entity/Q135347</td><td>Bird on a Wire</td><td>110</td></tr><tr><td>http://www.wikidata.org/entity/Q392915</td><td>Broken Arrow</td><td>110</td></tr><tr><td>http://www.wikidata.org/entity/Q15209986</td><td>Chappie</td><td>120</td></tr><tr><td>http://www.wikidata.org/entity/Q2963312</td><td>Chicago Joe and the Showgirl</td><td>103</td></tr><tr><td>http://www.wikidata.org/entity/Q1192764</td><td>Chill Factor</td><td>101</td></tr><tr><td>http://www.wikidata.org/entity/Q282748</td><td>Cool Runnings</td><td>98</td></tr><tr><td>http://www.wikidata.org/entity/Q1140085</td><td>Crimson Tide</td><td>111</td></tr><tr><td>http://www.wikidata.org/entity/Q31188935</td><td>Dark Phoenix</td><td>114</td></tr><tr><td>http://www.wikidata.org/entity/Q603696</td><td>Days of Thunder</td><td>107</td></tr><tr><td>http://www.wikidata.org/entity/Q211373</td><td>Driving Miss Daisy</td><td>99</td></tr><tr><td>http://www.wikidata.org/entity/Q1260289</td><td>Drop Zone</td><td>102</td></tr><tr><td>http://www.wikidata.org/entity/Q1260289</td><td>Drop Zone</td><td>101</td></tr><tr><td>http://www.wikidata.org/entity/Q1260289</td><td>Drop Zone</td><td>98</td></tr><tr><td>http://www.wikidata.org/entity/Q21935651</td><td>Dunkirk</td><td>106</td></tr><tr><td>http://www.wikidata.org/entity/Q18210299</td><td>Freeheld</td><td>103</td></tr><tr><td>http://www.wikidata.org/entity/Q505135</td><td>Green Card</td><td>102</td></tr><tr><td>http://www.wikidata.org/entity/Q523197</td><td>How Do You Know</td><td>116</td></tr><tr><td>http://www.wikidata.org/entity/Q853425</td><td>I'll Do Anything</td><td>115</td></tr><tr><td>http://www.wikidata.org/entity/Q843950</td><td>It's Complicated</td><td>118</td></tr><tr><td>http://www.wikidata.org/entity/Q129193</td><td>Kung Fu Panda</td><td>92</td></tr><tr><td>http://www.wikidata.org/entity/Q487447</td><td>Kung Fu Panda 2</td><td>91</td></tr><tr><td>http://www.wikidata.org/entity/Q15055043</td><td>Kung Fu Panda 3</td><td>95</td></tr><tr><td>http://www.wikidata.org/entity/Q244247</td><td>Madagascar 3: Europe's Most Wanted</td><td>93</td></tr><tr><td>http://www.wikidata.org/entity/Q4536</td><td>Matchstick Men</td><td>111</td></tr><tr><td>http://www.wikidata.org/entity/Q81205</td><td>Megamind</td><td>96</td></tr><tr><td>http://www.wikidata.org/entity/Q6928990</td><td>Mr. Morgan's Last Love</td><td>116</td></tr><tr><td>http://www.wikidata.org/entity/Q1788520</td><td>Muppet Treasure Island</td><td>99</td></tr><tr><td>http://www.wikidata.org/entity/Q18511204</td><td>Nightmare at Noon</td><td>96</td></tr><tr><td>http://www.wikidata.org/entity/Q955389</td><td>Nine Months</td><td>103</td></tr><tr><td>http://www.wikidata.org/entity/Q1148079</td><td>Pacific Heights</td><td>103</td></tr><tr><td>http://www.wikidata.org/entity/Q577469</td><td>Point of No Return</td><td>103</td></tr><tr><td>http://www.wikidata.org/entity/Q12128282</td><td>Radio Flyer</td><td>114</td></tr><tr><td>http://www.wikidata.org/entity/Q275432</td><td>Rango</td><td>107</td></tr><tr><td>http://www.wikidata.org/entity/Q603865</td><td>Regarding Henry</td><td>108</td></tr><tr><td>http://www.wikidata.org/entity/Q129288</td><td>Renaissance Man</td><td>117</td></tr><tr><td>http://www.wikidata.org/entity/Q1058489</td><td>Sadako 3D</td><td>96</td></tr><tr><td>http://www.wikidata.org/entity/Q120367</td><td>Shark Tale</td><td>90</td></tr><tr><td>http://www.wikidata.org/entity/Q1544085</td><td>Something to Talk About</td><td>106</td></tr><tr><td>http://www.wikidata.org/entity/Q18619153</td><td>The Boss Baby</td><td>97</td></tr><tr><td>http://www.wikidata.org/entity/Q1210206</td><td>The Dilemma</td><td>111</td></tr><tr><td>http://www.wikidata.org/entity/Q390299</td><td>The Fan</td><td>111</td></tr><tr><td>http://www.wikidata.org/entity/Q2406188</td><td>The Lightship</td><td>92</td></tr><tr><td>http://www.wikidata.org/entity/Q27044293</td><td>The Lion King</td><td>118</td></tr><tr><td>http://www.wikidata.org/entity/Q16386722</td><td>The Little Prince</td><td>108</td></tr><tr><td>http://www.wikidata.org/entity/Q1141706</td><td>The Peacemaker</td><td>118</td></tr><tr><td>http://www.wikidata.org/entity/Q1475674</td><td>The Preacher's Wife</td><td>119</td></tr><tr><td>http://www.wikidata.org/entity/Q245227</td><td>The Prince of Egypt</td><td>99</td></tr><tr><td>http://www.wikidata.org/entity/Q212804</td><td>The Ring</td><td>116</td></tr><tr><td>http://www.wikidata.org/entity/Q866358</td><td>The Road to El Dorado</td><td>90</td></tr><tr><td>http://www.wikidata.org/entity/Q60296</td><td>The Weather Man</td><td>102</td></tr><tr><td>http://www.wikidata.org/entity/Q17184103</td><td>The Woman in Gold</td><td>109</td></tr><tr><td>http://www.wikidata.org/entity/Q1849238</td><td>Toys</td><td>116</td></tr><tr><td>http://www.wikidata.org/entity/Q1127709</td><td>True Romance</td><td>120</td></tr><tr><td>http://www.wikidata.org/entity/Q4424430</td><td>Twister</td><td>93</td></tr><tr><td>http://www.wikidata.org/entity/Q7858914</td><td>Two Deaths</td><td>102</td></tr><tr><td>http://www.wikidata.org/entity/Q135491</td><td>White Fang</td><td>104</td></tr><tr><td>http://www.wikidata.org/entity/Q3569395</td><td>Winter's Tale</td><td>118</td></tr></tbody></table></body></html>"
   ]
  },
  {
   "cell_type": "markdown",
   "metadata": {},
   "source": [
    "**8- Vamos a recuperar ahora las películas más actuales en las que Zimmer ha colaborado como  compositor.  Estamos  interesados  específicamente  en  películas  que  se  hayan estrenado a partir de 2005.Seguramente,  en  tu  primer  intento  verás  que  cada  película aparece  repetida  varias veces  con  fechas  distintas  porque  Wikidata  contiene  las  fechas  de  estreno  en  cada \n",
    "país.  Vamos  a  considerar  que  la  fecha  real  de  estreno  de  la  película  es  la  fecha  más antigua de todas ellas.Para que cada película aparezca sólo una vez con la fecha correcta necesitarás agrupar las  respuestas  por  película  y  título,  y  aplicar  una  función  de  agregación  sobre  las fechas    de    publicación.    Los    resultados    se    tienen    que    mostrar    ordenados alfabéticamente.**"
   ]
  },
  {
   "cell_type": "code",
   "execution_count": 10,
   "metadata": {},
   "outputs": [],
   "source": [
    "sparql_query = \"\"\"\n",
    "SELECT ?pelicula ?peliculaLabel (MIN(?publicationDay) AS ?date) \n",
    "WHERE\n",
    "{\n",
    "  BIND(wd:Q76364 AS ?HANS).\n",
    "  ?pelicula wdt:P31/wdt:P279* wd:Q11424;\n",
    "             wdt:P86 ?HANS;\n",
    "             wdt:P577 ?publicationDay.\n",
    " FILTER(YEAR(?publicationDay)>= 2005).\n",
    " SERVICE wikibase:label { bd:serviceParam wikibase:language \"[AUTO_LANGUAGE],en\". }}\n",
    " GROUP BY ?pelicula ?peliculaLabel\n",
    " ORDER BY ASC(?peliculaLabel)\n",
    "\"\"\"\n",
    "res = return_sparql_query_results(sparql_query)\n"
   ]
  },
  {
   "cell_type": "markdown",
   "metadata": {},
   "source": [
    "<html><head><meta charset=\"utf-8\"></head><body><table><thead><tr><th>pelicula</th><th>label</th><th>duration</th></tr></thead><tbody><tr><td>http://www.wikidata.org/entity/Q232130</td><td>A World Apart</td><td>112</td></tr><tr><td>http://www.wikidata.org/entity/Q4749984</td><td>An Everlasting Piece</td><td>108</td></tr><tr><td>http://www.wikidata.org/entity/Q1753610</td><td>Beyond Rangoon</td><td>95</td></tr><tr><td>http://www.wikidata.org/entity/Q135347</td><td>Bird on a Wire</td><td>110</td></tr><tr><td>http://www.wikidata.org/entity/Q392915</td><td>Broken Arrow</td><td>110</td></tr><tr><td>http://www.wikidata.org/entity/Q15209986</td><td>Chappie</td><td>120</td></tr><tr><td>http://www.wikidata.org/entity/Q2963312</td><td>Chicago Joe and the Showgirl</td><td>103</td></tr><tr><td>http://www.wikidata.org/entity/Q1192764</td><td>Chill Factor</td><td>101</td></tr><tr><td>http://www.wikidata.org/entity/Q282748</td><td>Cool Runnings</td><td>98</td></tr><tr><td>http://www.wikidata.org/entity/Q1140085</td><td>Crimson Tide</td><td>111</td></tr><tr><td>http://www.wikidata.org/entity/Q31188935</td><td>Dark Phoenix</td><td>114</td></tr><tr><td>http://www.wikidata.org/entity/Q603696</td><td>Days of Thunder</td><td>107</td></tr><tr><td>http://www.wikidata.org/entity/Q211373</td><td>Driving Miss Daisy</td><td>99</td></tr><tr><td>http://www.wikidata.org/entity/Q1260289</td><td>Drop Zone</td><td>102</td></tr><tr><td>http://www.wikidata.org/entity/Q1260289</td><td>Drop Zone</td><td>101</td></tr><tr><td>http://www.wikidata.org/entity/Q1260289</td><td>Drop Zone</td><td>98</td></tr><tr><td>http://www.wikidata.org/entity/Q21935651</td><td>Dunkirk</td><td>106</td></tr><tr><td>http://www.wikidata.org/entity/Q18210299</td><td>Freeheld</td><td>103</td></tr><tr><td>http://www.wikidata.org/entity/Q505135</td><td>Green Card</td><td>102</td></tr><tr><td>http://www.wikidata.org/entity/Q523197</td><td>How Do You Know</td><td>116</td></tr><tr><td>http://www.wikidata.org/entity/Q853425</td><td>I'll Do Anything</td><td>115</td></tr><tr><td>http://www.wikidata.org/entity/Q843950</td><td>It's Complicated</td><td>118</td></tr><tr><td>http://www.wikidata.org/entity/Q129193</td><td>Kung Fu Panda</td><td>92</td></tr><tr><td>http://www.wikidata.org/entity/Q487447</td><td>Kung Fu Panda 2</td><td>91</td></tr><tr><td>http://www.wikidata.org/entity/Q15055043</td><td>Kung Fu Panda 3</td><td>95</td></tr><tr><td>http://www.wikidata.org/entity/Q244247</td><td>Madagascar 3: Europe's Most Wanted</td><td>93</td></tr><tr><td>http://www.wikidata.org/entity/Q4536</td><td>Matchstick Men</td><td>111</td></tr><tr><td>http://www.wikidata.org/entity/Q81205</td><td>Megamind</td><td>96</td></tr><tr><td>http://www.wikidata.org/entity/Q6928990</td><td>Mr. Morgan's Last Love</td><td>116</td></tr><tr><td>http://www.wikidata.org/entity/Q1788520</td><td>Muppet Treasure Island</td><td>99</td></tr><tr><td>http://www.wikidata.org/entity/Q18511204</td><td>Nightmare at Noon</td><td>96</td></tr><tr><td>http://www.wikidata.org/entity/Q955389</td><td>Nine Months</td><td>103</td></tr><tr><td>http://www.wikidata.org/entity/Q1148079</td><td>Pacific Heights</td><td>103</td></tr><tr><td>http://www.wikidata.org/entity/Q577469</td><td>Point of No Return</td><td>103</td></tr><tr><td>http://www.wikidata.org/entity/Q12128282</td><td>Radio Flyer</td><td>114</td></tr><tr><td>http://www.wikidata.org/entity/Q275432</td><td>Rango</td><td>107</td></tr><tr><td>http://www.wikidata.org/entity/Q603865</td><td>Regarding Henry</td><td>108</td></tr><tr><td>http://www.wikidata.org/entity/Q129288</td><td>Renaissance Man</td><td>117</td></tr><tr><td>http://www.wikidata.org/entity/Q1058489</td><td>Sadako 3D</td><td>96</td></tr><tr><td>http://www.wikidata.org/entity/Q120367</td><td>Shark Tale</td><td>90</td></tr><tr><td>http://www.wikidata.org/entity/Q1544085</td><td>Something to Talk About</td><td>106</td></tr><tr><td>http://www.wikidata.org/entity/Q18619153</td><td>The Boss Baby</td><td>97</td></tr><tr><td>http://www.wikidata.org/entity/Q1210206</td><td>The Dilemma</td><td>111</td></tr><tr><td>http://www.wikidata.org/entity/Q390299</td><td>The Fan</td><td>111</td></tr><tr><td>http://www.wikidata.org/entity/Q2406188</td><td>The Lightship</td><td>92</td></tr><tr><td>http://www.wikidata.org/entity/Q27044293</td><td>The Lion King</td><td>118</td></tr><tr><td>http://www.wikidata.org/entity/Q16386722</td><td>The Little Prince</td><td>108</td></tr><tr><td>http://www.wikidata.org/entity/Q1141706</td><td>The Peacemaker</td><td>118</td></tr><tr><td>http://www.wikidata.org/entity/Q1475674</td><td>The Preacher's Wife</td><td>119</td></tr><tr><td>http://www.wikidata.org/entity/Q245227</td><td>The Prince of Egypt</td><td>99</td></tr><tr><td>http://www.wikidata.org/entity/Q212804</td><td>The Ring</td><td>116</td></tr><tr><td>http://www.wikidata.org/entity/Q866358</td><td>The Road to El Dorado</td><td>90</td></tr><tr><td>http://www.wikidata.org/entity/Q60296</td><td>The Weather Man</td><td>102</td></tr><tr><td>http://www.wikidata.org/entity/Q17184103</td><td>The Woman in Gold</td><td>109</td></tr><tr><td>http://www.wikidata.org/entity/Q1849238</td><td>Toys</td><td>116</td></tr><tr><td>http://www.wikidata.org/entity/Q1127709</td><td>True Romance</td><td>120</td></tr><tr><td>http://www.wikidata.org/entity/Q4424430</td><td>Twister</td><td>93</td></tr><tr><td>http://www.wikidata.org/entity/Q7858914</td><td>Two Deaths</td><td>102</td></tr><tr><td>http://www.wikidata.org/entity/Q135491</td><td>White Fang</td><td>104</td></tr><tr><td>http://www.wikidata.org/entity/Q3569395</td><td>Winter's Tale</td><td>118</td></tr></tbody></table></body></html>"
   ]
  },
  {
   "cell_type": "markdown",
   "metadata": {},
   "source": [
    "**9- En  una  película  pueden  colaborar  varios  músicos.  ¿Qué  otros  compositores  han compuesto  junto  a Zimmeren  una  película?  Para  cada  uno  de  ellos  muestra  su nombre, la fecha de nacimiento y (si ha fallecido) la fecha de defunción. Los resultados deben aparecer ordenados alfabéticamente.**"
   ]
  },
  {
   "cell_type": "markdown",
   "metadata": {},
   "source": [
    "Si ordenamos por compositor vemos en esta consulta que aparece 2 veces Stanley Myers( wd:Q730252 ) dos veces con dos fechas diferentes de nacimiento."
   ]
  },
  {
   "cell_type": "code",
   "execution_count": null,
   "metadata": {},
   "outputs": [],
   "source": [
    "sparql_query = \"\"\"\n",
    "SELECT DISTINCT ?compositor ?compositorLabel ?dateOfBirth ?dateOfDeath\n",
    "WHERE\n",
    "{\n",
    "  BIND(wd:Q76364 AS ?HANS).\n",
    "  ?pelicula wdt:P31/wdt:P279* wd:Q11424;\n",
    "             wdt:P86 ?HANS;\n",
    "             wdt:P86 ?compositor.\n",
    " ?compositor wdt:P569 ?dateOfBirth.\n",
    " OPTIONAL { ?compositor wdt:P570 ?dateOfDeath. }\n",
    " FILTER(?HANS != ?compositor)\n",
    " SERVICE wikibase:label { bd:serviceParam wikibase:language \"[AUTO_LANGUAGE],en\". }}\n",
    " ORDER BY ASC(?compositorLabel)\n",
    "\n",
    "\"\"\"\n",
    "res = return_sparql_query_results(sparql_query)\n"
   ]
  },
  {
   "cell_type": "markdown",
   "metadata": {},
   "source": [
    "<html><head><meta charset=\"utf-8\"></head><body><table><thead><tr><th>compositor</th><th>compositorLabel</th><th>dateOfBirth</th><th>dateOfDeath</th></tr></thead><tbody><tr><td>http://www.wikidata.org/entity/Q313362</td><td>Alexandre Desplat</td><td>1961-08-23T00:00:00Z</td><td></td></tr><tr><td>http://www.wikidata.org/entity/Q352722</td><td>Alfredo Catalani</td><td>1854-06-19T00:00:00Z</td><td>1893-08-07T00:00:00Z</td></tr><tr><td>http://www.wikidata.org/entity/Q809067</td><td>Barry Mann</td><td>1939-02-09T00:00:00Z</td><td></td></tr><tr><td>http://www.wikidata.org/entity/Q83906</td><td>Basil Poledouris</td><td>1945-08-21T00:00:00Z</td><td>2006-11-08T00:00:00Z</td></tr><tr><td>http://www.wikidata.org/entity/Q6056440</td><td>Benjamin Wallfisch</td><td>1979-08-07T00:00:00Z</td><td></td></tr><tr><td>http://www.wikidata.org/entity/Q461008</td><td>Cynthia Weil</td><td>1940-10-18T00:00:00Z</td><td></td></tr><tr><td>http://www.wikidata.org/entity/Q471537</td><td>Dzhiván Gasparián</td><td>1928-10-12T00:00:00Z</td><td></td></tr><tr><td>http://www.wikidata.org/entity/Q2808</td><td>Elton John</td><td>1947-03-25T00:00:00Z</td><td></td></tr><tr><td>http://www.wikidata.org/entity/Q372489</td><td>Harold Faltermeyer</td><td>1952-10-05T00:00:00Z</td><td></td></tr><tr><td>http://www.wikidata.org/entity/Q213869</td><td>James Newton Howard</td><td>1951-06-09T00:00:00Z</td><td></td></tr><tr><td>http://www.wikidata.org/entity/Q266429</td><td>Junkie XL</td><td>1967-12-08T00:00:00Z</td><td></td></tr><tr><td>http://www.wikidata.org/entity/Q443712</td><td>Kenji Kawai</td><td>1957-04-23T00:00:00Z</td><td></td></tr><tr><td>http://www.wikidata.org/entity/Q57833</td><td>Klaus Badelt</td><td>1967-06-12T00:00:00Z</td><td></td></tr><tr><td>http://www.wikidata.org/entity/Q40580</td><td>Lisa Gerrard</td><td>1961-04-12T00:00:00Z</td><td></td></tr><tr><td>http://www.wikidata.org/entity/Q608628</td><td>Lorne Balfe</td><td>1976-02-23T00:00:00Z</td><td></td></tr><tr><td>http://www.wikidata.org/entity/Q1383645</td><td>Nick Glennie-Smith</td><td>1951-10-03T00:00:00Z</td><td></td></tr><tr><td>http://www.wikidata.org/entity/Q14313</td><td>Pharrell Williams</td><td>1973-04-05T00:00:00Z</td><td></td></tr><tr><td>http://www.wikidata.org/entity/Q730252</td><td>Stanley Myers</td><td>1930-10-06T00:00:00Z</td><td>1993-11-09T00:00:00Z</td></tr><tr><td>http://www.wikidata.org/entity/Q730252</td><td>Stanley Myers</td><td>1933-10-06T00:00:00Z</td><td>1993-11-09T00:00:00Z</td></tr><tr><td>http://www.wikidata.org/entity/Q319996</td><td>Thomas Newman</td><td>1955-10-20T00:00:00Z</td><td></td></tr><tr><td>http://www.wikidata.org/entity/Q298295</td><td>Tim Rice</td><td>1944-11-10T00:00:00Z</td><td></td></tr></tbody></table></body></html>"
   ]
  },
  {
   "cell_type": "markdown",
   "metadata": {},
   "source": [
    "**10-¿Cuántos  asertos  hay  sobre  Zimmer  en  Wikidata?  Ten  en  cuenta  que  Zimmer  puede aparecertanto como sujeto como objeto de cada tripleta.**"
   ]
  },
  {
   "cell_type": "markdown",
   "metadata": {},
   "source": [
    "Hacemos la union entre aquellos asertos en los que Zimmer actue como objeto, y aquellos en los que actue como sujeto"
   ]
  },
  {
   "cell_type": "code",
   "execution_count": null,
   "metadata": {},
   "outputs": [],
   "source": [
    "sparql_query = \"\"\"\n",
    "SELECT DISTINCT (COUNT(*) AS ?numAsertos)\n",
    "WHERE\n",
    "{\n",
    "  {?something ?property wd:Q76364} UNION {wd:Q76364 ?Hasproperty ?entity}.\n",
    "  SERVICE wikibase:label { bd:serviceParam wikibase:language \"[AUTO_LANGUAGE],en\". }\n",
    "}\n",
    "\n",
    "\"\"\"\n",
    "res = return_sparql_query_results(sparql_query)\n"
   ]
  },
  {
   "cell_type": "markdown",
   "metadata": {},
   "source": [
    "<html><head><meta charset=\"utf-8\"></head><body><table><thead><tr><th>numAsertos</th></tr></thead><tbody><tr><td>1193</td></tr></tbody></table></body></html>"
   ]
  }
 ],
 "metadata": {
  "kernelspec": {
   "display_name": "Python 3",
   "language": "python",
   "name": "python3"
  },
  "language_info": {
   "codemirror_mode": {
    "name": "ipython",
    "version": 3
   },
   "file_extension": ".py",
   "mimetype": "text/x-python",
   "name": "python",
   "nbconvert_exporter": "python",
   "pygments_lexer": "ipython3",
   "version": "3.8.3"
  }
 },
 "nbformat": 4,
 "nbformat_minor": 4
}

{
 "cells": [
  {
   "cell_type": "code",
   "execution_count": null,
   "metadata": {},
   "outputs": [],
   "source": []
  },
  {
   "cell_type": "code",
   "execution_count": 2,
   "metadata": {},
   "outputs": [
    {
     "name": "stdout",
     "output_type": "stream",
     "text": [
      "Collecting qwikidata\n",
      "  Downloading qwikidata-0.4.0-py3-none-any.whl (20 kB)\n",
      "Collecting mypy-extensions\n",
      "  Downloading mypy_extensions-0.4.3-py2.py3-none-any.whl (4.5 kB)\n",
      "Collecting requests\n",
      "  Downloading requests-2.23.0-py2.py3-none-any.whl (58 kB)\n",
      "Collecting certifi>=2017.4.17\n",
      "  Downloading certifi-2020.4.5.1-py2.py3-none-any.whl (157 kB)\n",
      "Collecting idna<3,>=2.5\n",
      "  Downloading idna-2.9-py2.py3-none-any.whl (58 kB)\n",
      "Collecting chardet<4,>=3.0.2\n",
      "  Downloading chardet-3.0.4-py2.py3-none-any.whl (133 kB)\n",
      "Collecting urllib3!=1.25.0,!=1.25.1,<1.26,>=1.21.1\n",
      "  Downloading urllib3-1.25.9-py2.py3-none-any.whl (126 kB)\n",
      "Installing collected packages: mypy-extensions, certifi, idna, chardet, urllib3, requests, qwikidata\n",
      "Successfully installed certifi-2020.4.5.1 chardet-3.0.4 idna-2.9 mypy-extensions-0.4.3 qwikidata-0.4.0 requests-2.23.0 urllib3-1.25.9\n",
      "Note: you may need to restart the kernel to use updated packages.\n"
     ]
    }
   ],
   "source": [
    "%pip install qwikidata"
   ]
  },
  {
   "cell_type": "code",
   "execution_count": 4,
   "metadata": {},
   "outputs": [],
   "source": [
    "from qwikidata.sparql import return_sparql_query_results"
   ]
  },
  {
   "cell_type": "markdown",
   "metadata": {},
   "source": [
    "Hans  Zimmer  (Q76364)es  un  famoso  compositor  de  muchas  bandas  sonoras  de películas. Vamos a comenzar por averiguar su fecha y lugar de nacimiento"
   ]
  },
  {
   "cell_type": "code",
   "execution_count": 5,
   "metadata": {},
   "outputs": [
    {
     "data": {
      "text/plain": [
       "{'head': {'vars': ['birth_date', 'place_birth', 'place_birthLabel']},\n",
       " 'results': {'bindings': [{'birth_date': {'datatype': 'http://www.w3.org/2001/XMLSchema#dateTime',\n",
       "     'type': 'literal',\n",
       "     'value': '1957-09-12T00:00:00Z'},\n",
       "    'place_birth': {'type': 'uri',\n",
       "     'value': 'http://www.wikidata.org/entity/Q1794'},\n",
       "    'place_birthLabel': {'xml:lang': 'en',\n",
       "     'type': 'literal',\n",
       "     'value': 'Frankfurt am Main'}}]}}"
      ]
     },
     "execution_count": 5,
     "metadata": {},
     "output_type": "execute_result"
    }
   ],
   "source": [
    "\n",
    "\n",
    "sparql_query = \"\"\"\n",
    "SELECT ?birth_date ?place_birth ?place_birthLabel\n",
    "WHERE\n",
    "{\n",
    "  wd:Q76364 wdt:P569 ?birth_date. #fecha nacimiento Hans Zimmer\n",
    "  wd:Q76364 wdt:P19 ?place_birth. #lugar de nacimiento\n",
    "  SERVICE wikibase:label { bd:serviceParam wikibase:language \"[AUTO_LANGUAGE],en\". }\n",
    "}\n",
    "\"\"\"\n",
    "res = return_sparql_query_results(sparql_query)\n",
    "res"
   ]
  },
  {
   "cell_type": "markdown",
   "metadata": {},
   "source": [
    "<html><head><meta charset=\"utf-8\"></head><body><table><thead><tr><th>birth_date</th><th>place_birthLabel</th></tr></thead><tbody><tr><td>1957-09-12T00:00:00Z</td><td>Fráncfort del Meno</td></tr></tbody></table></body></html>"
   ]
  },
  {
   "cell_type": "markdown",
   "metadata": {},
   "source": [
    "A continuación,vamos  a  averiguar  los  instrumentos  que  toca.  Queremos  obtener  los resultados ordenados alfabéticamente por el nombre del instrumento. "
   ]
  },
  {
   "cell_type": "code",
   "execution_count": 6,
   "metadata": {},
   "outputs": [
    {
     "data": {
      "text/plain": [
       "{'head': {'vars': ['instrumentLabel']},\n",
       " 'results': {'bindings': [{'instrumentLabel': {'xml:lang': 'en',\n",
       "     'type': 'literal',\n",
       "     'value': 'banjo'}},\n",
       "   {'instrumentLabel': {'xml:lang': 'en',\n",
       "     'type': 'literal',\n",
       "     'value': 'guitar'}},\n",
       "   {'instrumentLabel': {'xml:lang': 'en',\n",
       "     'type': 'literal',\n",
       "     'value': 'keyboard instrument'}},\n",
       "   {'instrumentLabel': {'xml:lang': 'en',\n",
       "     'type': 'literal',\n",
       "     'value': 'piano'}},\n",
       "   {'instrumentLabel': {'xml:lang': 'en',\n",
       "     'type': 'literal',\n",
       "     'value': 'synthesizer'}}]}}"
      ]
     },
     "execution_count": 6,
     "metadata": {},
     "output_type": "execute_result"
    }
   ],
   "source": [
    "sparql_query = \"\"\"\n",
    "SELECT ?instrumentLabel \n",
    "WHERE\n",
    "{\n",
    "  wd:Q76364 wdt:P1303 ?instrument\n",
    "  SERVICE wikibase:label { bd:serviceParam wikibase:language \"[AUTO_LANGUAGE],en\". }\n",
    "}\n",
    "ORDER BY ASC(?instrumentLabel)\n",
    "\n",
    "\"\"\"\n",
    "res = return_sparql_query_results(sparql_query)\n",
    "res"
   ]
  },
  {
   "cell_type": "markdown",
   "metadata": {},
   "source": [
    "<html><head><meta charset=\"utf-8\"></head><body><table><thead><tr><th>instrumentLabel</th></tr></thead><tbody><tr><td>banjo</td></tr><tr><td>guitarra</td></tr><tr><td>piano</td></tr><tr><td>sintetizador</td></tr><tr><td>teclado</td></tr></tbody></table></body></html>"
   ]
  },
  {
   "cell_type": "markdown",
   "metadata": {},
   "source": [
    "¿Cuales de los instrumentos que toca son instrumentos de cuerda? Ten en cuenta que los  instrumentos  pueden  ser  indirectamente  de  cuerda  a  través  de  varias  relaciones subclase. "
   ]
  },
  {
   "cell_type": "code",
   "execution_count": 8,
   "metadata": {},
   "outputs": [
    {
     "data": {
      "text/plain": [
       "{'head': {'vars': ['instrumentLabel']},\n",
       " 'results': {'bindings': [{'instrumentLabel': {'xml:lang': 'en',\n",
       "     'type': 'literal',\n",
       "     'value': 'banjo'}},\n",
       "   {'instrumentLabel': {'xml:lang': 'en',\n",
       "     'type': 'literal',\n",
       "     'value': 'guitar'}},\n",
       "   {'instrumentLabel': {'xml:lang': 'en',\n",
       "     'type': 'literal',\n",
       "     'value': 'piano'}}]}}"
      ]
     },
     "execution_count": 8,
     "metadata": {},
     "output_type": "execute_result"
    }
   ],
   "source": [
    "sparql_query = \"\"\"\n",
    "SELECT ?instrumentLabel \n",
    "WHERE\n",
    "{\n",
    "  wd:Q76364 wdt:P1303 ?instrument.\n",
    "  ?instrument wdt:P279* wd:Q1798603.\n",
    "  SERVICE wikibase:label { bd:serviceParam wikibase:language \"[AUTO_LANGUAGE],en\". }\n",
    "}\n",
    "ORDER BY ASC(?instrumentLabel)\n",
    "\n",
    "\"\"\"\n",
    "res = return_sparql_query_results(sparql_query)\n",
    "res"
   ]
  },
  {
   "cell_type": "markdown",
   "metadata": {},
   "source": [
    "<html><head><meta charset=\"utf-8\"></head><body><table><thead><tr><th>instrumentLabel</th></tr></thead><tbody><tr><td>banjo</td></tr><tr><td>guitarra</td></tr><tr><td>piano</td></tr></tbody></table></body></html>"
   ]
  },
  {
   "cell_type": "markdown",
   "metadata": {},
   "source": [
    "Zimmer   ha   recibido   muchas nominaciones   y   premios   a   lo   largo   de   su   carrera. Queremos obtener una lista de nominaciones y para cada una de ellas el trabajo por el cual fue nominado. Para resolver esta consulta necesitarás acceder a los cualificadores de nodos sentencia y necesitarásentender los prefijos que usa Wikidata. "
   ]
  },
  {
   "cell_type": "code",
   "execution_count": null,
   "metadata": {},
   "outputs": [],
   "source": []
  }
 ],
 "metadata": {
  "kernelspec": {
   "display_name": "Python 3",
   "language": "python",
   "name": "python3"
  },
  "language_info": {
   "codemirror_mode": {
    "name": "ipython",
    "version": 3
   },
   "file_extension": ".py",
   "mimetype": "text/x-python",
   "name": "python",
   "nbconvert_exporter": "python",
   "pygments_lexer": "ipython3",
   "version": "3.8.3"
  }
 },
 "nbformat": 4,
 "nbformat_minor": 4
}

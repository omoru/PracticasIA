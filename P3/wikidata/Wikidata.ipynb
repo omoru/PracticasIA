{
 "cells": [
  {
   "cell_type": "markdown",
   "metadata": {},
   "source": [
    "# Wikidata"
   ]
  },
  {
   "cell_type": "markdown",
   "metadata": {},
   "source": [
    "[Wikidata](https://www.wikidata.org/wiki/Wikidata:Main_Page) es una gran base de conocimiento gratuíta en forma de red semántica, que crece mediante el esfuerzo colaborativo de distintas comunidades. Proporciona conocimiento estructurado extraído de distintas wikis entre las que destacan [Wikipedia](https://es.wikipedia.org/wiki/Wikipedia:Portada) y [Wikimedia Commons](https://commons.wikimedia.org/wiki/Main_Page)."
   ]
  },
  {
   "cell_type": "markdown",
   "metadata": {},
   "source": [
    "## Estructura de las entidades\n",
    "\n",
    "Cuando consultamos una página de la Wikipedia, como la del [Museo del Prado](https://es.wikipedia.org/wiki/Museo_del_Prado), encontramos mucha información en texto natural que es difícil de interpretar y utilizar por un programa. A la derecha de la página aparece un cuadro con algunos datos relevantes del museo en forma de pares atributo-valor, pero la mayor parte de la información está escrita en lenguaje natural.\n",
    "\n",
    "![Página del Museo del Prado](museo_prado_wikipedia.png)"
   ]
  },
  {
   "cell_type": "markdown",
   "metadata": {},
   "source": [
    "A la izquierda de la página hay un menú con distintas opciones. En la parte de __Herramientas__ encontramos un enlace la [Elemento de Wikidata](https://www.wikidata.org/wiki/Q160112) correspondiente a esta página de la Wikipedia.\n",
    "\n",
    "![Página del Museo del Prado en Wikidata](museo_prado_wikidata.png)"
   ]
  },
  {
   "cell_type": "markdown",
   "metadata": {},
   "source": [
    "La página de wikidata muestra una vista HTML de la información que contiene la base de conocimiento sobre el Museo del Prado. El Museo del Prado es el _item_ Q160112 de la base de conocimiento. Cada item está descrito por una etiqueta, una descripción y un conjunto de alias, todo ello en varios idiomas.\n",
    "\n",
    "A continuación aparecen un conjunto de _statements_ o __sentencias__ que describen características de la entidad. Cada sentencia consiste en una propiedad y un valor. Por ejemplo, la propiedad _instance of_ tiene el identificador P31 y nos indica que esta entidad es instancia de las clases _art museum_ y _national museum_ que, a su vez, son otros items de la base de conocimiento. Los valores asociados a las propiedades pueden ser cadenas de texto, imágenes, coordenadas geográficas, enlaces a otras bases de datos, etc.\n",
    "\n",
    "Los valores pueden, a su vez, contener __cualificadores__ y __referencias__. Los cualificadores muestra meta-información sobre el valor mientras que las referencias contienen información sobre la fuente del dato. Por ejemplo, en la siguiente imagen podemos ver el esquema del item correspondiente al escritor inglés Douglas Adams.\n",
    "\n",
    "<!--![Esquema de un item en wikidata](wikidata_item.png)-->\n",
    "<img src=\"wikidata_item.png\" alt=\"Esquema de un item en wikidata\" style=\"width: 75%;\"/>"
   ]
  },
  {
   "cell_type": "markdown",
   "metadata": {},
   "source": [
    "## Punto de acceso SPARQL\n",
    "\n",
    "Además de navegar por la web, Wikidata nos ofrece otros interfaces con los que buscar información. Uno de ellos es un punto de acceso [SPARQL](https://query.wikidata.org/) donde podemos ejecutar consultas y recuperar información en forma de tripletas.\n",
    "\n",
    "![Punto de acceso SPARQL](sparql_endpoint.png)"
   ]
  },
  {
   "cell_type": "markdown",
   "metadata": {},
   "source": [
    "En la parte superior derecha podemos escribir directamente la consulta en SPARQL. El panel de la parte superior izquierda nos ayuda a crear consultas resolviendo nombres de items y propiedades y ayudándonos con la estructura de la consulta. En la parte inferior de la pantalla aparecen los resultados de la consulta cuando la ejecutamos con el botón Play. \n",
    "\n",
    "En el menú de __Ayuda__ podemos encontrar enlaces a recursos interesantes. A continuación mostramos algunos de ellos:\n",
    "\n",
    "- [Tutorial de SPARQL](https://www.wikidata.org/wiki/Wikidata:SPARQL_tutorial) donde se explican muchas más opciones de las que nosotros hemos visto en clase.\n",
    "- [Ejemplos de consultas](https://www.wikidata.org/wiki/Wikidata:SPARQL_query_service/queries/examples) donde se muestran y explican decenas de consultas distintas.\n",
    "- [Modelo de datos RDF](https://www.mediawiki.org/wiki/Wikibase/Indexing/RDF_Dump_Format) que se utiliza al exportar versiones de wikidata que se pueden descargar y utilizar offline.\n",
    "- [Manual de usuario de Wikidata Query Service](https://www.mediawiki.org/wiki/Wikidata_Query_Service/User_Manual) que es el software que proporcional el punto de acceso SPARQL a Wikidata. \n",
    "\n",
    "El punto de acceso SPARQL de Wikidata ofrece ciertos extras sobre el estándar. Por ejemplo, la línea SERVICE de la consulta nos permite obtener automáticamente la etiqueta de cualquier item con sólo crear una nueva variable que termine en Label (por ejemplo ?itemLabel en la consulta)."
   ]
  },
  {
   "cell_type": "markdown",
   "metadata": {},
   "source": [
    "## Interfaz python\n",
    "\n",
    "Podemos utilizar el paquete [qwikidata](https://qwikidata.readthedocs.io/en/stable/) para acceder a Wikidata desde un programa Python."
   ]
  },
  {
   "cell_type": "markdown",
   "metadata": {},
   "source": [
    "### Instalación\n",
    "\n",
    "La forma más sencilla de instalar esta biblioteca es mediante el siguiente comando:"
   ]
  },
  {
   "cell_type": "code",
   "execution_count": 1,
   "metadata": {},
   "outputs": [],
   "source": [
    "# Descomentar para instalar el paquete\n",
    "#%pip install qwikidata"
   ]
  },
  {
   "cell_type": "markdown",
   "metadata": {},
   "source": [
    "### Interfaz SPARQL\n",
    "\n",
    "Podemos ejecutar consultas SPARQL y obtener lo resultados en forma de diccionario.\n",
    "\n",
    "__Nota__: si el punto de acceso está sobreutilizado la consulta puede fallar. En ese caso se puede volver a lanzar."
   ]
  },
  {
   "cell_type": "code",
   "execution_count": 2,
   "metadata": {},
   "outputs": [
    {
     "data": {
      "text/plain": [
       "{'head': {'vars': ['item', 'itemLabel']},\n",
       " 'results': {'bindings': [{'item': {'type': 'uri',\n",
       "     'value': 'http://www.wikidata.org/entity/Q28114535'},\n",
       "    'itemLabel': {'xml:lang': 'en', 'type': 'literal', 'value': 'Mr. White'}},\n",
       "   {'item': {'type': 'uri',\n",
       "     'value': 'http://www.wikidata.org/entity/Q28665865'},\n",
       "    'itemLabel': {'xml:lang': 'en', 'type': 'literal', 'value': 'Myka'}},\n",
       "   {'item': {'type': 'uri',\n",
       "     'value': 'http://www.wikidata.org/entity/Q28792126'},\n",
       "    'itemLabel': {'xml:lang': 'en', 'type': 'literal', 'value': 'Gli'}},\n",
       "   {'item': {'type': 'uri',\n",
       "     'value': 'http://www.wikidata.org/entity/Q30600575'},\n",
       "    'itemLabel': {'xml:lang': 'en', 'type': 'literal', 'value': 'Orlando'}},\n",
       "   {'item': {'type': 'uri',\n",
       "     'value': 'http://www.wikidata.org/entity/Q42442324'},\n",
       "    'itemLabel': {'xml:lang': 'en',\n",
       "     'type': 'literal',\n",
       "     'value': 'Kiisu Miisu'}},\n",
       "   {'item': {'type': 'uri',\n",
       "     'value': 'http://www.wikidata.org/entity/Q43260736'},\n",
       "    'itemLabel': {'xml:lang': 'en', 'type': 'literal', 'value': 'Paddles'}},\n",
       "   {'item': {'type': 'uri',\n",
       "     'value': 'http://www.wikidata.org/entity/Q48895080'},\n",
       "    'itemLabel': {'xml:lang': 'en', 'type': 'literal', 'value': 'Hamilton'}},\n",
       "   {'item': {'type': 'uri',\n",
       "     'value': 'http://www.wikidata.org/entity/Q49581026'},\n",
       "    'itemLabel': {'xml:lang': 'en', 'type': 'literal', 'value': 'Toffee'}},\n",
       "   {'item': {'type': 'uri',\n",
       "     'value': 'http://www.wikidata.org/entity/Q50378472'},\n",
       "    'itemLabel': {'xml:lang': 'en', 'type': 'literal', 'value': 'Nutmeg'}},\n",
       "   {'item': {'type': 'uri',\n",
       "     'value': 'http://www.wikidata.org/entity/Q50824969'},\n",
       "    'itemLabel': {'xml:lang': 'en', 'type': 'literal', 'value': 'Liv'}},\n",
       "   {'item': {'type': 'uri',\n",
       "     'value': 'http://www.wikidata.org/entity/Q51596094'},\n",
       "    'itemLabel': {'xml:lang': 'en',\n",
       "     'type': 'literal',\n",
       "     'value': 'Crimean Tom'}},\n",
       "   {'item': {'type': 'uri',\n",
       "     'value': 'http://www.wikidata.org/entity/Q51827254'},\n",
       "    'itemLabel': {'xml:lang': 'en', 'type': 'literal', 'value': 'Peter II'}},\n",
       "   {'item': {'type': 'uri',\n",
       "     'value': 'http://www.wikidata.org/entity/Q51841231'},\n",
       "    'itemLabel': {'xml:lang': 'en', 'type': 'literal', 'value': 'Peter'}},\n",
       "   {'item': {'type': 'uri',\n",
       "     'value': 'http://www.wikidata.org/entity/Q52150156'},\n",
       "    'itemLabel': {'xml:lang': 'en',\n",
       "     'type': 'literal',\n",
       "     'value': 'Arcturus Aldebaran Powers'}},\n",
       "   {'item': {'type': 'uri',\n",
       "     'value': 'http://www.wikidata.org/entity/Q53216650'},\n",
       "    'itemLabel': {'xml:lang': 'en', 'type': 'literal', 'value': 'Nitama'}},\n",
       "   {'item': {'type': 'uri',\n",
       "     'value': 'http://www.wikidata.org/entity/Q54087698'},\n",
       "    'itemLabel': {'xml:lang': 'en', 'type': 'literal', 'value': 'Foss'}},\n",
       "   {'item': {'type': 'uri',\n",
       "     'value': 'http://www.wikidata.org/entity/Q54257563'},\n",
       "    'itemLabel': {'xml:lang': 'en', 'type': 'literal', 'value': 'Mostik'}},\n",
       "   {'item': {'type': 'uri',\n",
       "     'value': 'http://www.wikidata.org/entity/Q55632071'},\n",
       "    'itemLabel': {'xml:lang': 'en', 'type': 'literal', 'value': 'Rubble'}},\n",
       "   {'item': {'type': 'uri',\n",
       "     'value': 'http://www.wikidata.org/entity/Q56427306'},\n",
       "    'itemLabel': {'xml:lang': 'en', 'type': 'literal', 'value': 'Garfi'}},\n",
       "   {'item': {'type': 'uri',\n",
       "     'value': 'http://www.wikidata.org/entity/Q56471556'},\n",
       "    'itemLabel': {'xml:lang': 'en',\n",
       "     'type': 'literal',\n",
       "     'value': 'Brigadier Broccoli'}},\n",
       "   {'item': {'type': 'uri',\n",
       "     'value': 'http://www.wikidata.org/entity/Q57251591'},\n",
       "    'itemLabel': {'xml:lang': 'en', 'type': 'literal', 'value': 'Beerbohm'}},\n",
       "   {'item': {'type': 'uri',\n",
       "     'value': 'http://www.wikidata.org/entity/Q57623398'},\n",
       "    'itemLabel': {'xml:lang': 'en', 'type': 'literal', 'value': 'Blackie'}},\n",
       "   {'item': {'type': 'uri',\n",
       "     'value': 'http://www.wikidata.org/entity/Q58310774'},\n",
       "    'itemLabel': {'xml:lang': 'en', 'type': 'literal', 'value': 'Longcat'}},\n",
       "   {'item': {'type': 'uri',\n",
       "     'value': 'http://www.wikidata.org/entity/Q58311218'},\n",
       "    'itemLabel': {'xml:lang': 'en',\n",
       "     'type': 'literal',\n",
       "     'value': 'Sam the Cat has Eyebrows'}},\n",
       "   {'item': {'type': 'uri',\n",
       "     'value': 'http://www.wikidata.org/entity/Q58621231'},\n",
       "    'itemLabel': {'xml:lang': 'en', 'type': 'literal', 'value': 'Lóu lóu'}},\n",
       "   {'item': {'type': 'uri',\n",
       "     'value': 'http://www.wikidata.org/entity/Q60213636'},\n",
       "    'itemLabel': {'xml:lang': 'en', 'type': 'literal', 'value': 'Trick'}},\n",
       "   {'item': {'type': 'uri',\n",
       "     'value': 'http://www.wikidata.org/entity/Q61133276'},\n",
       "    'itemLabel': {'xml:lang': 'en', 'type': 'literal', 'value': 'Şero'}},\n",
       "   {'item': {'type': 'uri',\n",
       "     'value': 'http://www.wikidata.org/entity/Q62128317'},\n",
       "    'itemLabel': {'xml:lang': 'en', 'type': 'literal', 'value': 'Naro'}},\n",
       "   {'item': {'type': 'uri',\n",
       "     'value': 'http://www.wikidata.org/entity/Q63094726'},\n",
       "    'itemLabel': {'xml:lang': 'en',\n",
       "     'type': 'literal',\n",
       "     'value': 'Embassy Cat'}},\n",
       "   {'item': {'type': 'uri',\n",
       "     'value': 'http://www.wikidata.org/entity/Q63324074'},\n",
       "    'itemLabel': {'xml:lang': 'en', 'type': 'literal', 'value': 'Kasper'}},\n",
       "   {'item': {'type': 'uri',\n",
       "     'value': 'http://www.wikidata.org/entity/Q63360736'},\n",
       "    'itemLabel': {'xml:lang': 'en',\n",
       "     'type': 'literal',\n",
       "     'value': 'Jackie the Cat'}},\n",
       "   {'item': {'type': 'uri',\n",
       "     'value': 'http://www.wikidata.org/entity/Q63928240'},\n",
       "    'itemLabel': {'xml:lang': 'en',\n",
       "     'type': 'literal',\n",
       "     'value': 'Fatso the Cat'}},\n",
       "   {'item': {'type': 'uri',\n",
       "     'value': 'http://www.wikidata.org/entity/Q64119106'},\n",
       "    'itemLabel': {'xml:lang': 'en',\n",
       "     'type': 'literal',\n",
       "     'value': 'Dotty the catt'}},\n",
       "   {'item': {'type': 'uri',\n",
       "     'value': 'http://www.wikidata.org/entity/Q64706109'},\n",
       "    'itemLabel': {'xml:lang': 'en',\n",
       "     'type': 'literal',\n",
       "     'value': 'Souris Calle'}},\n",
       "   {'item': {'type': 'uri',\n",
       "     'value': 'http://www.wikidata.org/entity/Q65769811'},\n",
       "    'itemLabel': {'xml:lang': 'en', 'type': 'literal', 'value': 'Remy'}},\n",
       "   {'item': {'type': 'uri',\n",
       "     'value': 'http://www.wikidata.org/entity/Q65967183'},\n",
       "    'itemLabel': {'xml:lang': 'en', 'type': 'literal', 'value': 'Reggie'}},\n",
       "   {'item': {'type': 'uri',\n",
       "     'value': 'http://www.wikidata.org/entity/Q65967196'},\n",
       "    'itemLabel': {'xml:lang': 'en', 'type': 'literal', 'value': 'Gonzo'}},\n",
       "   {'item': {'type': 'uri',\n",
       "     'value': 'http://www.wikidata.org/entity/Q65967198'},\n",
       "    'itemLabel': {'xml:lang': 'en', 'type': 'literal', 'value': 'Archie'}},\n",
       "   {'item': {'type': 'uri',\n",
       "     'value': 'http://www.wikidata.org/entity/Q65967200'},\n",
       "    'itemLabel': {'xml:lang': 'en', 'type': 'literal', 'value': 'Rizzo'}},\n",
       "   {'item': {'type': 'uri',\n",
       "     'value': 'http://www.wikidata.org/entity/Q66737405'},\n",
       "    'itemLabel': {'xml:lang': 'en', 'type': 'literal', 'value': 'Mittens'}},\n",
       "   {'item': {'type': 'uri',\n",
       "     'value': 'http://www.wikidata.org/entity/Q76974430'},\n",
       "    'itemLabel': {'xml:lang': 'en', 'type': 'literal', 'value': 'Apelmon'}},\n",
       "   {'item': {'type': 'uri',\n",
       "     'value': 'http://www.wikidata.org/entity/Q77942925'},\n",
       "    'itemLabel': {'xml:lang': 'en', 'type': 'literal', 'value': 'Misha'}},\n",
       "   {'item': {'type': 'uri',\n",
       "     'value': 'http://www.wikidata.org/entity/Q79407468'},\n",
       "    'itemLabel': {'xml:lang': 'en', 'type': 'literal', 'value': 'Abatutu'}},\n",
       "   {'item': {'type': 'uri',\n",
       "     'value': 'http://www.wikidata.org/entity/Q86736210'},\n",
       "    'itemLabel': {'type': 'literal', 'value': 'Q86736210'}},\n",
       "   {'item': {'type': 'uri',\n",
       "     'value': 'http://www.wikidata.org/entity/Q94098815'},\n",
       "    'itemLabel': {'xml:lang': 'en',\n",
       "     'type': 'literal',\n",
       "     'value': 'Meredith Grey'}},\n",
       "   {'item': {'type': 'uri',\n",
       "     'value': 'http://www.wikidata.org/entity/Q94100602'},\n",
       "    'itemLabel': {'xml:lang': 'en',\n",
       "     'type': 'literal',\n",
       "     'value': 'Olivia Benson'}},\n",
       "   {'item': {'type': 'uri',\n",
       "     'value': 'http://www.wikidata.org/entity/Q94990539'},\n",
       "    'itemLabel': {'xml:lang': 'en', 'type': 'literal', 'value': 'Pip'}},\n",
       "   {'item': {'type': 'uri',\n",
       "     'value': 'http://www.wikidata.org/entity/Q94993819'},\n",
       "    'itemLabel': {'xml:lang': 'en', 'type': 'literal', 'value': 'Zipper'}},\n",
       "   {'item': {'type': 'uri', 'value': 'http://www.wikidata.org/entity/Q378619'},\n",
       "    'itemLabel': {'xml:lang': 'en', 'type': 'literal', 'value': 'CC'}},\n",
       "   {'item': {'type': 'uri', 'value': 'http://www.wikidata.org/entity/Q498787'},\n",
       "    'itemLabel': {'xml:lang': 'en', 'type': 'literal', 'value': 'Muezza'}},\n",
       "   {'item': {'type': 'uri', 'value': 'http://www.wikidata.org/entity/Q677525'},\n",
       "    'itemLabel': {'xml:lang': 'en', 'type': 'literal', 'value': 'Orangey'}},\n",
       "   {'item': {'type': 'uri', 'value': 'http://www.wikidata.org/entity/Q851190'},\n",
       "    'itemLabel': {'xml:lang': 'en',\n",
       "     'type': 'literal',\n",
       "     'value': 'Mrs. Chippy'}},\n",
       "   {'item': {'type': 'uri',\n",
       "     'value': 'http://www.wikidata.org/entity/Q1050083'},\n",
       "    'itemLabel': {'xml:lang': 'en', 'type': 'literal', 'value': 'Catmando'}},\n",
       "   {'item': {'type': 'uri',\n",
       "     'value': 'http://www.wikidata.org/entity/Q1201902'},\n",
       "    'itemLabel': {'xml:lang': 'en',\n",
       "     'type': 'literal',\n",
       "     'value': 'Tama My Freind'}},\n",
       "   {'item': {'type': 'uri',\n",
       "     'value': 'http://www.wikidata.org/entity/Q1207136'},\n",
       "    'itemLabel': {'xml:lang': 'en',\n",
       "     'type': 'literal',\n",
       "     'value': 'Dewey Readmore Books'}},\n",
       "   {'item': {'type': 'uri',\n",
       "     'value': 'http://www.wikidata.org/entity/Q1371145'},\n",
       "    'itemLabel': {'xml:lang': 'en', 'type': 'literal', 'value': 'Socks'}},\n",
       "   {'item': {'type': 'uri',\n",
       "     'value': 'http://www.wikidata.org/entity/Q1386318'},\n",
       "    'itemLabel': {'xml:lang': 'en',\n",
       "     'type': 'literal',\n",
       "     'value': 'F. D. C. Willard'}},\n",
       "   {'item': {'type': 'uri',\n",
       "     'value': 'http://www.wikidata.org/entity/Q1413628'},\n",
       "    'itemLabel': {'xml:lang': 'en', 'type': 'literal', 'value': 'Nora'}},\n",
       "   {'item': {'type': 'uri',\n",
       "     'value': 'http://www.wikidata.org/entity/Q1622688'},\n",
       "    'itemLabel': {'xml:lang': 'en', 'type': 'literal', 'value': 'Hodge'}},\n",
       "   {'item': {'type': 'uri',\n",
       "     'value': 'http://www.wikidata.org/entity/Q1637234'},\n",
       "    'itemLabel': {'xml:lang': 'en', 'type': 'literal', 'value': 'Humphrey'}},\n",
       "   {'item': {'type': 'uri',\n",
       "     'value': 'http://www.wikidata.org/entity/Q1750907'},\n",
       "    'itemLabel': {'xml:lang': 'en', 'type': 'literal', 'value': 'Towser'}},\n",
       "   {'item': {'type': 'uri',\n",
       "     'value': 'http://www.wikidata.org/entity/Q1759652'},\n",
       "    'itemLabel': {'xml:lang': 'en',\n",
       "     'type': 'literal',\n",
       "     'value': 'Wilberforce'}},\n",
       "   {'item': {'type': 'uri',\n",
       "     'value': 'http://www.wikidata.org/entity/Q2060630'},\n",
       "    'itemLabel': {'xml:lang': 'en', 'type': 'literal', 'value': 'India'}},\n",
       "   {'item': {'type': 'uri',\n",
       "     'value': 'http://www.wikidata.org/entity/Q2098929'},\n",
       "    'itemLabel': {'xml:lang': 'en', 'type': 'literal', 'value': 'Simon'}},\n",
       "   {'item': {'type': 'uri',\n",
       "     'value': 'http://www.wikidata.org/entity/Q2262318'},\n",
       "    'itemLabel': {'xml:lang': 'en', 'type': 'literal', 'value': 'Larry'}},\n",
       "   {'item': {'type': 'uri',\n",
       "     'value': 'http://www.wikidata.org/entity/Q2300851'},\n",
       "    'itemLabel': {'xml:lang': 'en', 'type': 'literal', 'value': 'Winnie'}},\n",
       "   {'item': {'type': 'uri',\n",
       "     'value': 'http://www.wikidata.org/entity/Q2597104'},\n",
       "    'itemLabel': {'xml:lang': 'en', 'type': 'literal', 'value': 'Creme Puff'}},\n",
       "   {'item': {'type': 'uri',\n",
       "     'value': 'http://www.wikidata.org/entity/Q2624688'},\n",
       "    'itemLabel': {'xml:lang': 'en', 'type': 'literal', 'value': 'Sybil'}},\n",
       "   {'item': {'type': 'uri',\n",
       "     'value': 'http://www.wikidata.org/entity/Q2634968'},\n",
       "    'itemLabel': {'xml:lang': 'en', 'type': 'literal', 'value': 'Maru'}},\n",
       "   {'item': {'type': 'uri',\n",
       "     'value': 'http://www.wikidata.org/entity/Q2909987'},\n",
       "    'itemLabel': {'xml:lang': 'en',\n",
       "     'type': 'literal',\n",
       "     'value': 'Mr. Green Genes'}},\n",
       "   {'item': {'type': 'uri',\n",
       "     'value': 'http://www.wikidata.org/entity/Q3500553'},\n",
       "    'itemLabel': {'xml:lang': 'en', 'type': 'literal', 'value': 'Trim'}},\n",
       "   {'item': {'type': 'uri',\n",
       "     'value': 'http://www.wikidata.org/entity/Q4421603'},\n",
       "    'itemLabel': {'xml:lang': 'en', 'type': 'literal', 'value': 'Scarlett'}},\n",
       "   {'item': {'type': 'uri',\n",
       "     'value': 'http://www.wikidata.org/entity/Q5049074'},\n",
       "    'itemLabel': {'xml:lang': 'en', 'type': 'literal', 'value': 'Casper'}},\n",
       "   {'item': {'type': 'uri',\n",
       "     'value': 'http://www.wikidata.org/entity/Q5105465'},\n",
       "    'itemLabel': {'xml:lang': 'en', 'type': 'literal', 'value': 'Choupette'}},\n",
       "   {'item': {'type': 'uri',\n",
       "     'value': 'http://www.wikidata.org/entity/Q5317221'},\n",
       "    'itemLabel': {'xml:lang': 'en',\n",
       "     'type': 'literal',\n",
       "     'value': 'Dusty the Klepto Kitty'}},\n",
       "   {'item': {'type': 'uri',\n",
       "     'value': 'http://www.wikidata.org/entity/Q5496635'},\n",
       "    'itemLabel': {'xml:lang': 'en',\n",
       "     'type': 'literal',\n",
       "     'value': 'Fred the Undercover Kitty'}},\n",
       "   {'item': {'type': 'uri',\n",
       "     'value': 'http://www.wikidata.org/entity/Q5503291'},\n",
       "    'itemLabel': {'xml:lang': 'en', 'type': 'literal', 'value': 'Freya'}},\n",
       "   {'item': {'type': 'uri',\n",
       "     'value': 'http://www.wikidata.org/entity/Q5697905'},\n",
       "    'itemLabel': {'xml:lang': 'en', 'type': 'literal', 'value': 'Heed'}},\n",
       "   {'item': {'type': 'uri',\n",
       "     'value': 'http://www.wikidata.org/entity/Q5715272'},\n",
       "    'itemLabel': {'xml:lang': 'en', 'type': 'literal', 'value': 'Henri'}},\n",
       "   {'item': {'type': 'uri',\n",
       "     'value': 'http://www.wikidata.org/entity/Q6651160'},\n",
       "    'itemLabel': {'xml:lang': 'en',\n",
       "     'type': 'literal',\n",
       "     'value': 'Little Nicky'}},\n",
       "   {'item': {'type': 'uri',\n",
       "     'value': 'http://www.wikidata.org/entity/Q6703608'},\n",
       "    'itemLabel': {'xml:lang': 'en',\n",
       "     'type': 'literal',\n",
       "     'value': 'Luna the Fashion Kitty'}},\n",
       "   {'item': {'type': 'uri',\n",
       "     'value': 'http://www.wikidata.org/entity/Q6817786'},\n",
       "    'itemLabel': {'xml:lang': 'en', 'type': 'literal', 'value': 'Meow'}},\n",
       "   {'item': {'type': 'uri',\n",
       "     'value': 'http://www.wikidata.org/entity/Q6845813'},\n",
       "    'itemLabel': {'xml:lang': 'en', 'type': 'literal', 'value': 'Mike'}},\n",
       "   {'item': {'type': 'uri',\n",
       "     'value': 'http://www.wikidata.org/entity/Q6928344'},\n",
       "    'itemLabel': {'xml:lang': 'en', 'type': 'literal', 'value': 'Mr. Nuts'}},\n",
       "   {'item': {'type': 'uri',\n",
       "     'value': 'http://www.wikidata.org/entity/Q7105840'},\n",
       "    'itemLabel': {'xml:lang': 'en', 'type': 'literal', 'value': 'Oscar'}},\n",
       "   {'item': {'type': 'uri',\n",
       "     'value': 'http://www.wikidata.org/entity/Q7172400'},\n",
       "    'itemLabel': {'xml:lang': 'en',\n",
       "     'type': 'literal',\n",
       "     'value': \"Peter, the Lord's cat\"}},\n",
       "   {'item': {'type': 'uri',\n",
       "     'value': 'http://www.wikidata.org/entity/Q7243868'},\n",
       "    'itemLabel': {'xml:lang': 'en',\n",
       "     'type': 'literal',\n",
       "     'value': 'Prince Chunk'}},\n",
       "   {'item': {'type': 'uri',\n",
       "     'value': 'http://www.wikidata.org/entity/Q7366253'},\n",
       "    'itemLabel': {'xml:lang': 'en', 'type': 'literal', 'value': 'Room 8'}},\n",
       "   {'item': {'type': 'uri',\n",
       "     'value': 'http://www.wikidata.org/entity/Q7380911'},\n",
       "    'itemLabel': {'xml:lang': 'en', 'type': 'literal', 'value': 'Rusik'}},\n",
       "   {'item': {'type': 'uri',\n",
       "     'value': 'http://www.wikidata.org/entity/Q7430467'},\n",
       "    'itemLabel': {'xml:lang': 'en',\n",
       "     'type': 'literal',\n",
       "     'value': \"Scarlett's Magic\"}},\n",
       "   {'item': {'type': 'uri',\n",
       "     'value': 'http://www.wikidata.org/entity/Q7553023'},\n",
       "    'itemLabel': {'xml:lang': 'en', 'type': 'literal', 'value': 'Sockington'}},\n",
       "   {'item': {'type': 'uri',\n",
       "     'value': 'http://www.wikidata.org/entity/Q7627362'},\n",
       "    'itemLabel': {'xml:lang': 'en', 'type': 'literal', 'value': 'Stubbs'}},\n",
       "   {'item': {'type': 'uri',\n",
       "     'value': 'http://www.wikidata.org/entity/Q7714263'},\n",
       "    'itemLabel': {'xml:lang': 'en', 'type': 'literal', 'value': 'Grumpy Cat'}},\n",
       "   {'item': {'type': 'uri',\n",
       "     'value': 'http://www.wikidata.org/entity/Q7800822'},\n",
       "    'itemLabel': {'xml:lang': 'en', 'type': 'literal', 'value': 'Tiddles'}},\n",
       "   {'item': {'type': 'uri',\n",
       "     'value': 'http://www.wikidata.org/entity/Q8999673'},\n",
       "    'itemLabel': {'xml:lang': 'en', 'type': 'literal', 'value': 'Shironeko'}},\n",
       "   {'item': {'type': 'uri',\n",
       "     'value': 'http://www.wikidata.org/entity/Q10344245'},\n",
       "    'itemLabel': {'xml:lang': 'en', 'type': 'literal', 'value': 'Panther'}},\n",
       "   {'item': {'type': 'uri',\n",
       "     'value': 'http://www.wikidata.org/entity/Q10393754'},\n",
       "    'itemLabel': {'xml:lang': 'en', 'type': 'literal', 'value': 'Willow'}},\n",
       "   {'item': {'type': 'uri',\n",
       "     'value': 'http://www.wikidata.org/entity/Q10813994'},\n",
       "    'itemLabel': {'xml:lang': 'en',\n",
       "     'type': 'literal',\n",
       "     'value': 'Tsim Tung Brother Cream'}},\n",
       "   {'item': {'type': 'uri',\n",
       "     'value': 'http://www.wikidata.org/entity/Q11279521'},\n",
       "    'itemLabel': {'xml:lang': 'en', 'type': 'literal', 'value': 'Misuke'}},\n",
       "   {'item': {'type': 'uri',\n",
       "     'value': 'http://www.wikidata.org/entity/Q11290753'},\n",
       "    'itemLabel': {'xml:lang': 'en', 'type': 'literal', 'value': 'Emily'}},\n",
       "   {'item': {'type': 'uri',\n",
       "     'value': 'http://www.wikidata.org/entity/Q11291938'},\n",
       "    'itemLabel': {'xml:lang': 'en', 'type': 'literal', 'value': 'Nora'}},\n",
       "   {'item': {'type': 'uri',\n",
       "     'value': 'http://www.wikidata.org/entity/Q11302267'},\n",
       "    'itemLabel': {'xml:lang': 'en', 'type': 'literal', 'value': 'Kotora'}},\n",
       "   {'item': {'type': 'uri',\n",
       "     'value': 'http://www.wikidata.org/entity/Q12165555'},\n",
       "    'itemLabel': {'xml:lang': 'en', 'type': 'literal', 'value': 'Félicette'}},\n",
       "   {'item': {'type': 'uri',\n",
       "     'value': 'http://www.wikidata.org/entity/Q14832020'},\n",
       "    'itemLabel': {'xml:lang': 'en', 'type': 'literal', 'value': 'Lil Bub'}},\n",
       "   {'item': {'type': 'uri',\n",
       "     'value': 'http://www.wikidata.org/entity/Q14916910'},\n",
       "    'itemLabel': {'xml:lang': 'en',\n",
       "     'type': 'literal',\n",
       "     'value': 'Buurtpoes Bledder'}},\n",
       "   {'item': {'type': 'uri',\n",
       "     'value': 'http://www.wikidata.org/entity/Q15835811'},\n",
       "    'itemLabel': {'xml:lang': 'en',\n",
       "     'type': 'literal',\n",
       "     'value': 'Munich Mouser'}},\n",
       "   {'item': {'type': 'uri',\n",
       "     'value': 'http://www.wikidata.org/entity/Q15836515'},\n",
       "    'itemLabel': {'xml:lang': 'en', 'type': 'literal', 'value': 'Nelson'}},\n",
       "   {'item': {'type': 'uri',\n",
       "     'value': 'http://www.wikidata.org/entity/Q15840011'},\n",
       "    'itemLabel': {'xml:lang': 'en', 'type': 'literal', 'value': 'Peta'}},\n",
       "   {'item': {'type': 'uri',\n",
       "     'value': 'http://www.wikidata.org/entity/Q15840080'},\n",
       "    'itemLabel': {'xml:lang': 'en', 'type': 'literal', 'value': 'Peter III'}},\n",
       "   {'item': {'type': 'uri',\n",
       "     'value': 'http://www.wikidata.org/entity/Q15851429'},\n",
       "    'itemLabel': {'xml:lang': 'en',\n",
       "     'type': 'literal',\n",
       "     'value': 'Treasury Bill'}},\n",
       "   {'item': {'type': 'uri',\n",
       "     'value': 'http://www.wikidata.org/entity/Q15991501'},\n",
       "    'itemLabel': {'xml:lang': 'en',\n",
       "     'type': 'literal',\n",
       "     'value': 'Hamish McHamish'}},\n",
       "   {'item': {'type': 'uri',\n",
       "     'value': 'http://www.wikidata.org/entity/Q16605098'},\n",
       "    'itemLabel': {'xml:lang': 'en',\n",
       "     'type': 'literal',\n",
       "     'value': 'Colonel Meow'}},\n",
       "   {'item': {'type': 'uri',\n",
       "     'value': 'http://www.wikidata.org/entity/Q16835794'},\n",
       "    'itemLabel': {'xml:lang': 'en', 'type': 'literal', 'value': 'Dorofei'}},\n",
       "   {'item': {'type': 'uri',\n",
       "     'value': 'http://www.wikidata.org/entity/Q16950243'},\n",
       "    'itemLabel': {'xml:lang': 'en', 'type': 'literal', 'value': 'Smudge'}},\n",
       "   {'item': {'type': 'uri',\n",
       "     'value': 'http://www.wikidata.org/entity/Q16985214'},\n",
       "    'itemLabel': {'xml:lang': 'en', 'type': 'literal', 'value': 'Spangles'}},\n",
       "   {'item': {'type': 'uri',\n",
       "     'value': 'http://www.wikidata.org/entity/Q17000472'},\n",
       "    'itemLabel': {'xml:lang': 'en', 'type': 'literal', 'value': 'Poppy'}},\n",
       "   {'item': {'type': 'uri',\n",
       "     'value': 'http://www.wikidata.org/entity/Q17115860'},\n",
       "    'itemLabel': {'xml:lang': 'en',\n",
       "     'type': 'literal',\n",
       "     'value': 'Lorenzo the cat'}},\n",
       "   {'item': {'type': 'uri',\n",
       "     'value': 'http://www.wikidata.org/entity/Q17115877'},\n",
       "    'itemLabel': {'xml:lang': 'en', 'type': 'literal', 'value': 'Tara'}},\n",
       "   {'item': {'type': 'uri',\n",
       "     'value': 'http://www.wikidata.org/entity/Q17537171'},\n",
       "    'itemLabel': {'xml:lang': 'en',\n",
       "     'type': 'literal',\n",
       "     'value': 'Pepper the Cat'}},\n",
       "   {'item': {'type': 'uri',\n",
       "     'value': 'http://www.wikidata.org/entity/Q17576799'},\n",
       "    'itemLabel': {'xml:lang': 'en', 'type': 'literal', 'value': 'Ketzel'}},\n",
       "   {'item': {'type': 'uri',\n",
       "     'value': 'http://www.wikidata.org/entity/Q18945952'},\n",
       "    'itemLabel': {'xml:lang': 'en', 'type': 'literal', 'value': 'Hana'}},\n",
       "   {'item': {'type': 'uri',\n",
       "     'value': 'http://www.wikidata.org/entity/Q19850466'},\n",
       "    'itemLabel': {'xml:lang': 'en', 'type': 'literal', 'value': 'Filuś'}},\n",
       "   {'item': {'type': 'uri',\n",
       "     'value': 'http://www.wikidata.org/entity/Q19880492'},\n",
       "    'itemLabel': {'xml:lang': 'en',\n",
       "     'type': 'literal',\n",
       "     'value': 'Frank and Louie'}},\n",
       "   {'item': {'type': 'uri',\n",
       "     'value': 'http://www.wikidata.org/entity/Q19906739'},\n",
       "    'itemLabel': {'xml:lang': 'en', 'type': 'literal', 'value': 'FamousNiki'}},\n",
       "   {'item': {'type': 'uri',\n",
       "     'value': 'http://www.wikidata.org/entity/Q20080934'},\n",
       "    'itemLabel': {'xml:lang': 'en',\n",
       "     'type': 'literal',\n",
       "     'value': 'Tiffany Two'}},\n",
       "   {'item': {'type': 'uri',\n",
       "     'value': 'http://www.wikidata.org/entity/Q21002390'},\n",
       "    'itemLabel': {'xml:lang': 'en', 'type': 'literal', 'value': 'Corduroy'}},\n",
       "   {'item': {'type': 'uri',\n",
       "     'value': 'http://www.wikidata.org/entity/Q21041964'},\n",
       "    'itemLabel': {'xml:lang': 'en', 'type': 'literal', 'value': 'Sammy'}},\n",
       "   {'item': {'type': 'uri',\n",
       "     'value': 'http://www.wikidata.org/entity/Q21050077'},\n",
       "    'itemLabel': {'xml:lang': 'en', 'type': 'literal', 'value': 'Merlin'}},\n",
       "   {'item': {'type': 'uri',\n",
       "     'value': 'http://www.wikidata.org/entity/Q21426728'},\n",
       "    'itemLabel': {'xml:lang': 'en', 'type': 'literal', 'value': 'Bébert'}},\n",
       "   {'item': {'type': 'uri',\n",
       "     'value': 'http://www.wikidata.org/entity/Q21641529'},\n",
       "    'itemLabel': {'xml:lang': 'en', 'type': 'literal', 'value': 'Matroska'}},\n",
       "   {'item': {'type': 'uri',\n",
       "     'value': 'http://www.wikidata.org/entity/Q21652863'},\n",
       "    'itemLabel': {'xml:lang': 'en', 'type': 'literal', 'value': 'Freddy'}},\n",
       "   {'item': {'type': 'uri',\n",
       "     'value': 'http://www.wikidata.org/entity/Q22774485'},\n",
       "    'itemLabel': {'xml:lang': 'en',\n",
       "     'type': 'literal',\n",
       "     'value': 'Think Think'}},\n",
       "   {'item': {'type': 'uri',\n",
       "     'value': 'http://www.wikidata.org/entity/Q24084366'},\n",
       "    'itemLabel': {'xml:lang': 'en', 'type': 'literal', 'value': 'Scooter'}},\n",
       "   {'item': {'type': 'uri',\n",
       "     'value': 'http://www.wikidata.org/entity/Q24298806'},\n",
       "    'itemLabel': {'xml:lang': 'en',\n",
       "     'type': 'literal',\n",
       "     'value': 'Tibs the Great'}},\n",
       "   {'item': {'type': 'uri',\n",
       "     'value': 'http://www.wikidata.org/entity/Q24705153'},\n",
       "    'itemLabel': {'xml:lang': 'en', 'type': 'literal', 'value': 'Ah Tsai'}},\n",
       "   {'item': {'type': 'uri',\n",
       "     'value': 'http://www.wikidata.org/entity/Q25171691'},\n",
       "    'itemLabel': {'xml:lang': 'en', 'type': 'literal', 'value': 'Palmerston'}},\n",
       "   {'item': {'type': 'uri',\n",
       "     'value': 'http://www.wikidata.org/entity/Q25393350'},\n",
       "    'itemLabel': {'xml:lang': 'en', 'type': 'literal', 'value': 'Tomba'}},\n",
       "   {'item': {'type': 'uri',\n",
       "     'value': 'http://www.wikidata.org/entity/Q25471040'},\n",
       "    'itemLabel': {'xml:lang': 'en', 'type': 'literal', 'value': 'Pixel'}},\n",
       "   {'item': {'type': 'uri',\n",
       "     'value': 'http://www.wikidata.org/entity/Q27190410'},\n",
       "    'itemLabel': {'xml:lang': 'en', 'type': 'literal', 'value': 'Gladstone'}},\n",
       "   {'item': {'type': 'uri',\n",
       "     'value': 'http://www.wikidata.org/entity/Q27739753'},\n",
       "    'itemLabel': {'xml:lang': 'en',\n",
       "     'type': 'literal',\n",
       "     'value': 'Sister Cream'}},\n",
       "   {'item': {'type': 'uri',\n",
       "     'value': 'http://www.wikidata.org/entity/Q27744042'},\n",
       "    'itemLabel': {'xml:lang': 'en', 'type': 'literal', 'value': 'Bob'}},\n",
       "   {'item': {'type': 'uri',\n",
       "     'value': 'http://www.wikidata.org/entity/Q27745002'},\n",
       "    'itemLabel': {'xml:lang': 'en', 'type': 'literal', 'value': 'Musashi'}},\n",
       "   {'item': {'type': 'uri',\n",
       "     'value': 'http://www.wikidata.org/entity/Q27745006'},\n",
       "    'itemLabel': {'xml:lang': 'en', 'type': 'literal', 'value': 'Leo'}},\n",
       "   {'item': {'type': 'uri',\n",
       "     'value': 'http://www.wikidata.org/entity/Q27745008'},\n",
       "    'itemLabel': {'xml:lang': 'en', 'type': 'literal', 'value': 'Luca'}},\n",
       "   {'item': {'type': 'uri',\n",
       "     'value': 'http://www.wikidata.org/entity/Q27745009'},\n",
       "    'itemLabel': {'xml:lang': 'en', 'type': 'literal', 'value': 'Seri'}},\n",
       "   {'item': {'type': 'uri',\n",
       "     'value': 'http://www.wikidata.org/entity/Q27745011'},\n",
       "    'itemLabel': {'xml:lang': 'en', 'type': 'literal', 'value': 'Marble'}},\n",
       "   {'item': {'type': 'uri',\n",
       "     'value': 'http://www.wikidata.org/entity/Q27926432'},\n",
       "    'itemLabel': {'xml:lang': 'en', 'type': 'literal', 'value': 'Tombili'}},\n",
       "   {'item': {'type': 'uri',\n",
       "     'value': 'http://www.wikidata.org/entity/Q28114532'},\n",
       "    'itemLabel': {'xml:lang': 'en', 'type': 'literal', 'value': 'Nala'}}]}}"
      ]
     },
     "execution_count": 2,
     "metadata": {},
     "output_type": "execute_result"
    }
   ],
   "source": [
    "from qwikidata.sparql import return_sparql_query_results\n",
    "\n",
    "sparql_query = \"\"\"\n",
    "SELECT ?item ?itemLabel \n",
    "WHERE \n",
    "{\n",
    "  ?item wdt:P31 wd:Q146.\n",
    "  SERVICE wikibase:label { bd:serviceParam wikibase:language \"en\". }\n",
    "}\n",
    "\"\"\"\n",
    "res = return_sparql_query_results(sparql_query)\n",
    "res"
   ]
  },
  {
   "cell_type": "markdown",
   "metadata": {},
   "source": [
    "También hay alguna función de utilidad extra que nos permite, por ejemplo, obtener las subclases de una entidad."
   ]
  },
  {
   "cell_type": "code",
   "execution_count": 3,
   "metadata": {},
   "outputs": [
    {
     "data": {
      "text/plain": [
       "['Q4022',\n",
       " 'Q100649',\n",
       " 'Q159675',\n",
       " 'Q591942',\n",
       " 'Q653247',\n",
       " 'Q794428',\n",
       " 'Q1074069',\n",
       " 'Q1140845',\n",
       " 'Q1299258',\n",
       " 'Q1460693',\n",
       " 'Q1531228',\n",
       " 'Q1720683',\n",
       " 'Q1746748',\n",
       " 'Q1986504',\n",
       " 'Q2048585',\n",
       " 'Q2230783',\n",
       " 'Q2375084',\n",
       " 'Q2557367',\n",
       " 'Q3073652',\n",
       " 'Q3196604',\n",
       " 'Q4176368',\n",
       " 'Q4366834',\n",
       " 'Q4392849',\n",
       " 'Q4392856',\n",
       " 'Q4733366',\n",
       " 'Q4879406',\n",
       " 'Q5371585',\n",
       " 'Q7164110',\n",
       " 'Q7580767',\n",
       " 'Q8026426',\n",
       " 'Q10670417',\n",
       " 'Q10875106',\n",
       " 'Q11553102',\n",
       " 'Q12099220',\n",
       " 'Q12149663',\n",
       " 'Q12309892',\n",
       " 'Q16465938',\n",
       " 'Q16638716',\n",
       " 'Q18915937',\n",
       " 'Q20529834',\n",
       " 'Q21079327',\n",
       " 'Q21573828',\n",
       " 'Q27067659',\n",
       " 'Q42122394',\n",
       " 'Q51205815',\n",
       " 'Q60061427',\n",
       " 'Q60823417',\n",
       " 'Q71184245',\n",
       " 'Q12048869',\n",
       " 'Q90905898',\n",
       " 'Q3058945',\n",
       " 'Q21504956']"
      ]
     },
     "execution_count": 3,
     "metadata": {},
     "output_type": "execute_result"
    }
   ],
   "source": [
    "from qwikidata.sparql import get_subclasses_of_item\n",
    "\n",
    "Q_RIVER = \"Q4022\"\n",
    "subclasses_of_river = get_subclasses_of_item(Q_RIVER)\n",
    "subclasses_of_river"
   ]
  },
  {
   "cell_type": "markdown",
   "metadata": {},
   "source": [
    "### Interfaz Linked data\n",
    "\n",
    "Podemos recuperar la información de distintas entidades y propiedades de Wikidata y acceder a ellas mediante objetos de Python. En este ejemplo vamos a trabajar con el item [Douglas Adams (Q42)](https://www.wikidata.org/wiki/Q42)."
   ]
  },
  {
   "cell_type": "code",
   "execution_count": 4,
   "metadata": {},
   "outputs": [
    {
     "data": {
      "text/plain": [
       "WikidataItem(label=Douglas Adams, id=Q42, description=English writer and humorist, aliases=['Douglas Noel Adams', 'Douglas Noël Adams', 'Douglas N. Adams'], enwiki_title=Douglas Adams)"
      ]
     },
     "execution_count": 4,
     "metadata": {},
     "output_type": "execute_result"
    }
   ],
   "source": [
    "from qwikidata.entity import WikidataItem, WikidataProperty, WikidataLexeme \n",
    "from qwikidata.linked_data_interface import get_entity_dict_from_api\n",
    "\n",
    "# obtener un objeto con la información del escritor douglas Adams\n",
    "Q_DOUGLAS_ADAMS = 'Q42'\n",
    "q42_dict = get_entity_dict_from_api(Q_DOUGLAS_ADAMS)\n",
    "q42 = WikidataItem(q42_dict)\n",
    "q42"
   ]
  },
  {
   "cell_type": "markdown",
   "metadata": {},
   "source": [
    "Ahora podemos navegar por la información del objeto."
   ]
  },
  {
   "cell_type": "code",
   "execution_count": 5,
   "metadata": {},
   "outputs": [
    {
     "data": {
      "text/plain": [
       "'item'"
      ]
     },
     "execution_count": 5,
     "metadata": {},
     "output_type": "execute_result"
    }
   ],
   "source": [
    "q42.entity_type"
   ]
  },
  {
   "cell_type": "code",
   "execution_count": 6,
   "metadata": {},
   "outputs": [
    {
     "data": {
      "text/plain": [
       "'Douglas Adams'"
      ]
     },
     "execution_count": 6,
     "metadata": {},
     "output_type": "execute_result"
    }
   ],
   "source": [
    "q42.get_label()"
   ]
  },
  {
   "cell_type": "code",
   "execution_count": 7,
   "metadata": {},
   "outputs": [
    {
     "data": {
      "text/plain": [
       "'English writer and humorist'"
      ]
     },
     "execution_count": 7,
     "metadata": {},
     "output_type": "execute_result"
    }
   ],
   "source": [
    "q42.get_description()"
   ]
  },
  {
   "cell_type": "code",
   "execution_count": 8,
   "metadata": {},
   "outputs": [
    {
     "data": {
      "text/plain": [
       "['Douglas Noel Adams', 'Douglas Noël Adams', 'Douglas N. Adams']"
      ]
     },
     "execution_count": 8,
     "metadata": {},
     "output_type": "execute_result"
    }
   ],
   "source": [
    "q42.get_aliases()"
   ]
  },
  {
   "cell_type": "code",
   "execution_count": 9,
   "metadata": {},
   "outputs": [
    {
     "data": {
      "text/plain": [
       "'Douglas Adams'"
      ]
     },
     "execution_count": 9,
     "metadata": {},
     "output_type": "execute_result"
    }
   ],
   "source": [
    "q42.get_enwiki_title()"
   ]
  },
  {
   "cell_type": "code",
   "execution_count": 10,
   "metadata": {},
   "outputs": [
    {
     "data": {
      "text/plain": [
       "{'enwiki': {'site': 'enwiki',\n",
       "  'title': 'Douglas Adams',\n",
       "  'badges': [],\n",
       "  'url': 'https://en.wikipedia.org/wiki/Douglas_Adams'},\n",
       " 'enwikiquote': {'site': 'enwikiquote',\n",
       "  'title': 'Douglas Adams',\n",
       "  'badges': [],\n",
       "  'url': 'https://en.wikiquote.org/wiki/Douglas_Adams'}}"
      ]
     },
     "execution_count": 10,
     "metadata": {},
     "output_type": "execute_result"
    }
   ],
   "source": [
    "q42.get_sitelinks()"
   ]
  },
  {
   "cell_type": "markdown",
   "metadata": {},
   "source": [
    "También podemos acceder a los grupos de sentencias asociadas a la entidad. Cada grupo de sentencias o __claim group__ representa los distintos valores que podemos encontrar asociados a una propiedad. Por ejemplo, si una entidad es instancia de varias clases distintas encontraremos un __claim group__ asociado a la propiedad __instance of (P31)__ que contiene a su vez varias sentencias individuales o __claims__. \n",
    "\n",
    "Por ejemplo, [Douglas Adams](https://www.wikidata.org/wiki/Q42) estudió en dos escuelas diferentes (St John's College y Brentwood School). Podemos encontrarlas mediante la propiedad __educated at (P69)__.\n",
    "\n",
    "![Douglas Adams - educated at](adams_educated_at.png)"
   ]
  },
  {
   "cell_type": "code",
   "execution_count": 11,
   "metadata": {},
   "outputs": [
    {
     "data": {
      "text/plain": [
       "WikidataClaimGroup(property_id=P69, claims=[WikidataClaim(type=statement, rank=normal, mainsnak=WikidataSnak(snaktype=value, property_id=P69, snak_datatype=wikibase-item, value_datatype=wikibase-entityid, datavalue=WikibaseEntityId(id=Q691283)), qualifiers=OrderedDict([('P582', [WikidataQualifier(hash=cf63122733bae275108bbf5d043d46669f782697, snak=WikidataSnak(snaktype=value, property_id=P582, snak_datatype=time, value_datatype=time, datavalue=Time(time=+1974-01-01T00:00:00Z, precision=9)))]), ('P812', [WikidataQualifier(hash=e03f82fd83e940fdf0020ded271f0edf11977d72, snak=WikidataSnak(snaktype=value, property_id=P812, snak_datatype=wikibase-item, value_datatype=wikibase-entityid, datavalue=WikibaseEntityId(id=Q186579)))]), ('P512', [WikidataQualifier(hash=e1bbba02ae21a15bcef937d017c8142e5cf73a88, snak=WikidataSnak(snaktype=value, property_id=P512, snak_datatype=wikibase-item, value_datatype=wikibase-entityid, datavalue=WikibaseEntityId(id=Q1765120)))]), ('P580', [WikidataQualifier(hash=847c4c912d3781dc83eabd7135d6403c473c0daf, snak=WikidataSnak(snaktype=value, property_id=P580, snak_datatype=time, value_datatype=time, datavalue=Time(time=+1971-00-00T00:00:00Z, precision=9)))])])), WikidataClaim(type=statement, rank=normal, mainsnak=WikidataSnak(snaktype=value, property_id=P69, snak_datatype=wikibase-item, value_datatype=wikibase-entityid, datavalue=WikibaseEntityId(id=Q4961791)), qualifiers=OrderedDict([('P582', [WikidataQualifier(hash=5c5b90187b61a0af83711c9495e5529940747577, snak=WikidataSnak(snaktype=value, property_id=P582, snak_datatype=time, value_datatype=time, datavalue=Time(time=+1970-00-00T00:00:00Z, precision=9)))]), ('P580', [WikidataQualifier(hash=923f84fcbf398253e1ef1a8a13f1da430b87d7bb, snak=WikidataSnak(snaktype=value, property_id=P580, snak_datatype=time, value_datatype=time, datavalue=Time(time=+1959-00-00T00:00:00Z, precision=9)))])]))])"
      ]
     },
     "execution_count": 11,
     "metadata": {},
     "output_type": "execute_result"
    }
   ],
   "source": [
    "# Acceso al grupo de sentencias asociados a una propiedad\n",
    "EDUCATED_AT = 'P69'\n",
    "claim_group = q42.get_truthy_claim_group(EDUCATED_AT)\n",
    "claim_group"
   ]
  },
  {
   "cell_type": "markdown",
   "metadata": {},
   "source": [
    "Cada sentencia o __claim__ tiene un valor o __mainsnak__ que puede ser, a su vez, el identificador de otra entidad de Wikidata."
   ]
  },
  {
   "cell_type": "code",
   "execution_count": 12,
   "metadata": {},
   "outputs": [
    {
     "data": {
      "text/plain": [
       "WikidataSnak(snaktype=value, property_id=P69, snak_datatype=wikibase-item, value_datatype=wikibase-entityid, datavalue=WikibaseEntityId(id=Q691283))"
      ]
     },
     "execution_count": 12,
     "metadata": {},
     "output_type": "execute_result"
    }
   ],
   "source": [
    "claim = claim_group[0]\n",
    "claim.mainsnak"
   ]
  },
  {
   "cell_type": "code",
   "execution_count": 15,
   "metadata": {},
   "outputs": [
    {
     "data": {
      "text/plain": [
       "'wikibase-entityid'"
      ]
     },
     "execution_count": 15,
     "metadata": {},
     "output_type": "execute_result"
    }
   ],
   "source": [
    "claim.mainsnak."
   ]
  },
  {
   "cell_type": "markdown",
   "metadata": {},
   "source": [
    "Podemos comprobar que la entidad Q691283 corresponde con el collegio [St John's College](https://www.wikidata.org/wiki/Q691283) donde estudió el escritor."
   ]
  },
  {
   "cell_type": "markdown",
   "metadata": {},
   "source": [
    "Cada sentencia puede tener un conjunto de cualificadores y/o referencias asociados, como se muestra en la imagen anterior.\n",
    "\n",
    "El siguiente fragmento de código muestra cómo recorrer los __qualificadores__ de esta sentencia donde encontraremos meta-información sobre la estancia de Douglas Adams en St John's College."
   ]
  },
  {
   "cell_type": "code",
   "execution_count": 14,
   "metadata": {},
   "outputs": [
    {
     "name": "stdout",
     "output_type": "stream",
     "text": [
      "end time: Time(time=+1974-01-01T00:00:00Z, precision=9)\n",
      "academic major: WikibaseEntityId(id=Q186579)\n",
      "academic degree: WikibaseEntityId(id=Q1765120)\n",
      "start time: Time(time=+1971-00-00T00:00:00Z, precision=9)\n"
     ]
    }
   ],
   "source": [
    "# pid es el identificador de la propiedad\n",
    "# quals son los data qualifiers\n",
    "for pid, quals in claim.qualifiers.items():\n",
    "    # recuperar la entidad que representa la propiedad\n",
    "    prop = WikidataProperty(get_entity_dict_from_api(pid))\n",
    "    # recuperar los cualificadores e imprimir los que sean de tipo value\n",
    "    for qual in quals:\n",
    "        if qual.snak.snaktype == \"value\":\n",
    "            print(f\"{prop.get_label()}: {qual.snak.datavalue}\")"
   ]
  },
  {
   "cell_type": "code",
   "execution_count": null,
   "metadata": {},
   "outputs": [],
   "source": []
  },
  {
   "cell_type": "markdown",
   "metadata": {},
   "source": [
    "Además de los cualificadores, podemos encontrar referencias que indican la fuente del dato. El siguiente fragmento de código muestra cómo recorrer las __referencias__ de esta sentencia."
   ]
  },
  {
   "cell_type": "code",
   "execution_count": 15,
   "metadata": {},
   "outputs": [
    {
     "name": "stdout",
     "output_type": "stream",
     "text": [
      "REFERENCIA 0\n",
      "stated in: WikibaseEntityId(id=Q5375741)\n",
      "REFERENCIA 1\n",
      "reference URL: String(value=http://www.nndb.com/people/731/000023662/)\n",
      "language of work or name: WikibaseEntityId(id=Q1860)\n",
      "publisher: WikibaseEntityId(id=Q1373513)\n",
      "retrieved: Time(time=+2013-12-07T00:00:00Z, precision=11)\n",
      "title: MongolingualText(text=Douglas Adams, language=en)\n"
     ]
    }
   ],
   "source": [
    "for ref_num, ref in enumerate(claim.references):\n",
    "    print(f\"REFERENCIA {ref_num}\")\n",
    "    # cada referencia contiene un id de propiedad y un conjunto de snaks o datos de la referencia\n",
    "    for pid, snaks in ref.snaks.items():\n",
    "        prop = WikidataProperty(get_entity_dict_from_api(pid))\n",
    "        for snak in snaks:\n",
    "            if snak.snaktype == \"value\":\n",
    "                print(f\"{prop.get_label()}: {snak.datavalue}\")"
   ]
  },
  {
   "cell_type": "code",
   "execution_count": null,
   "metadata": {},
   "outputs": [],
   "source": []
  }
 ],
 "metadata": {
  "kernelspec": {
   "display_name": "Python 3",
   "language": "python",
   "name": "python3"
  },
  "language_info": {
   "codemirror_mode": {
    "name": "ipython",
    "version": 3
   },
   "file_extension": ".py",
   "mimetype": "text/x-python",
   "name": "python",
   "nbconvert_exporter": "python",
   "pygments_lexer": "ipython3",
   "version": "3.8.3"
  }
 },
 "nbformat": 4,
 "nbformat_minor": 4
}
